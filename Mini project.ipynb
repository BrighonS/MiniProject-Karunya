{
  "nbformat": 4,
  "nbformat_minor": 0,
  "metadata": {
    "colab": {
      "name": "Copy of Welcome To Colaboratory",
      "provenance": [],
      "collapsed_sections": []
    },
    "kernelspec": {
      "display_name": "Python 3",
      "name": "python3"
    }
  },
  "cells": [
    {
      "cell_type": "markdown",
      "metadata": {
        "id": "LNp58MxFePjN"
      },
      "source": [
        "# IMPORTING TIME LIB"
      ]
    },
    {
      "cell_type": "code",
      "metadata": {
        "colab": {
          "base_uri": "https://localhost:8080/"
        },
        "id": "eczyKiPXeLyK",
        "outputId": "d0e72dd2-422b-400a-972e-2cc6f9a64e80"
      },
      "source": [
        "!pip install ipython-autotime\n",
        "%load_ext autotime"
      ],
      "execution_count": 26,
      "outputs": [
        {
          "output_type": "stream",
          "text": [
            "Requirement already satisfied: ipython-autotime in /usr/local/lib/python3.7/dist-packages (0.3.1)\n",
            "Requirement already satisfied: ipython in /usr/local/lib/python3.7/dist-packages (from ipython-autotime) (5.5.0)\n",
            "Requirement already satisfied: pexpect; sys_platform != \"win32\" in /usr/local/lib/python3.7/dist-packages (from ipython->ipython-autotime) (4.8.0)\n",
            "Requirement already satisfied: setuptools>=18.5 in /usr/local/lib/python3.7/dist-packages (from ipython->ipython-autotime) (54.1.2)\n",
            "Requirement already satisfied: pygments in /usr/local/lib/python3.7/dist-packages (from ipython->ipython-autotime) (2.6.1)\n",
            "Requirement already satisfied: traitlets>=4.2 in /usr/local/lib/python3.7/dist-packages (from ipython->ipython-autotime) (5.0.5)\n",
            "Requirement already satisfied: decorator in /usr/local/lib/python3.7/dist-packages (from ipython->ipython-autotime) (4.4.2)\n",
            "Requirement already satisfied: prompt-toolkit<2.0.0,>=1.0.4 in /usr/local/lib/python3.7/dist-packages (from ipython->ipython-autotime) (1.0.18)\n",
            "Requirement already satisfied: pickleshare in /usr/local/lib/python3.7/dist-packages (from ipython->ipython-autotime) (0.7.5)\n",
            "Requirement already satisfied: simplegeneric>0.8 in /usr/local/lib/python3.7/dist-packages (from ipython->ipython-autotime) (0.8.1)\n",
            "Requirement already satisfied: ptyprocess>=0.5 in /usr/local/lib/python3.7/dist-packages (from pexpect; sys_platform != \"win32\"->ipython->ipython-autotime) (0.7.0)\n",
            "Requirement already satisfied: ipython-genutils in /usr/local/lib/python3.7/dist-packages (from traitlets>=4.2->ipython->ipython-autotime) (0.2.0)\n",
            "Requirement already satisfied: six>=1.9.0 in /usr/local/lib/python3.7/dist-packages (from prompt-toolkit<2.0.0,>=1.0.4->ipython->ipython-autotime) (1.15.0)\n",
            "Requirement already satisfied: wcwidth in /usr/local/lib/python3.7/dist-packages (from prompt-toolkit<2.0.0,>=1.0.4->ipython->ipython-autotime) (0.2.5)\n",
            "The autotime extension is already loaded. To reload it, use:\n",
            "  %reload_ext autotime\n",
            "time: 3.13 s (started: 2021-03-26 13:48:39 +00:00)\n"
          ],
          "name": "stdout"
        }
      ]
    },
    {
      "cell_type": "markdown",
      "metadata": {
        "id": "OibkVj4sIxw4"
      },
      "source": [
        "# Importing the libraries"
      ]
    },
    {
      "cell_type": "code",
      "metadata": {
        "id": "zAe_JDN5ImqO",
        "colab": {
          "base_uri": "https://localhost:8080/"
        },
        "outputId": "349cb960-0ee2-4666-c7ea-4eef8942748c"
      },
      "source": [
        "import numpy as np\n",
        "import pandas as pd\n",
        "import matplotlib.pyplot as plt\n",
        "from sklearn.preprocessing import LabelEncoder\n",
        "from sklearn.impute import SimpleImputer\n",
        "from sklearn.preprocessing import OneHotEncoder"
      ],
      "execution_count": 27,
      "outputs": [
        {
          "output_type": "stream",
          "text": [
            "time: 2.33 ms (started: 2021-03-26 13:48:42 +00:00)\n"
          ],
          "name": "stdout"
        }
      ]
    },
    {
      "cell_type": "markdown",
      "metadata": {
        "id": "4nG2XmI6JDCc"
      },
      "source": [
        "# Importing the traning Dataset"
      ]
    },
    {
      "cell_type": "code",
      "metadata": {
        "id": "g-fkHOjoJLPL",
        "colab": {
          "base_uri": "https://localhost:8080/"
        },
        "outputId": "7c241990-7fb9-4c6b-ea2e-c9a32ffb3c28"
      },
      "source": [
        "dataset = pd.read_csv('aug_train.csv')"
      ],
      "execution_count": 28,
      "outputs": [
        {
          "output_type": "stream",
          "text": [
            "time: 64.3 ms (started: 2021-03-26 13:48:42 +00:00)\n"
          ],
          "name": "stdout"
        }
      ]
    },
    {
      "cell_type": "markdown",
      "metadata": {
        "id": "9Crg234nJU5z"
      },
      "source": [
        "#Taking care of missing data"
      ]
    },
    {
      "cell_type": "code",
      "metadata": {
        "id": "Gn07-6tCJgwn",
        "colab": {
          "base_uri": "https://localhost:8080/",
          "height": 607
        },
        "outputId": "1b5c29d1-7507-44cd-c070-289748454343"
      },
      "source": [
        "dataset = dataset.dropna()\n",
        "dataset"
      ],
      "execution_count": 29,
      "outputs": [
        {
          "output_type": "execute_result",
          "data": {
            "text/html": [
              "<div>\n",
              "<style scoped>\n",
              "    .dataframe tbody tr th:only-of-type {\n",
              "        vertical-align: middle;\n",
              "    }\n",
              "\n",
              "    .dataframe tbody tr th {\n",
              "        vertical-align: top;\n",
              "    }\n",
              "\n",
              "    .dataframe thead th {\n",
              "        text-align: right;\n",
              "    }\n",
              "</style>\n",
              "<table border=\"1\" class=\"dataframe\">\n",
              "  <thead>\n",
              "    <tr style=\"text-align: right;\">\n",
              "      <th></th>\n",
              "      <th>enrollee_id</th>\n",
              "      <th>city</th>\n",
              "      <th>city_development_index</th>\n",
              "      <th>gender</th>\n",
              "      <th>relevent_experience</th>\n",
              "      <th>enrolled_university</th>\n",
              "      <th>education_level</th>\n",
              "      <th>major_discipline</th>\n",
              "      <th>experience</th>\n",
              "      <th>company_size</th>\n",
              "      <th>company_type</th>\n",
              "      <th>last_new_job</th>\n",
              "      <th>training_hours</th>\n",
              "      <th>target</th>\n",
              "    </tr>\n",
              "  </thead>\n",
              "  <tbody>\n",
              "    <tr>\n",
              "      <th>1</th>\n",
              "      <td>29725</td>\n",
              "      <td>city_40</td>\n",
              "      <td>0.776</td>\n",
              "      <td>Male</td>\n",
              "      <td>No relevent experience</td>\n",
              "      <td>no_enrollment</td>\n",
              "      <td>Graduate</td>\n",
              "      <td>STEM</td>\n",
              "      <td>15</td>\n",
              "      <td>50-99</td>\n",
              "      <td>Pvt Ltd</td>\n",
              "      <td>&gt;4</td>\n",
              "      <td>47</td>\n",
              "      <td>0.0</td>\n",
              "    </tr>\n",
              "    <tr>\n",
              "      <th>4</th>\n",
              "      <td>666</td>\n",
              "      <td>city_162</td>\n",
              "      <td>0.767</td>\n",
              "      <td>Male</td>\n",
              "      <td>Has relevent experience</td>\n",
              "      <td>no_enrollment</td>\n",
              "      <td>Masters</td>\n",
              "      <td>STEM</td>\n",
              "      <td>&gt;20</td>\n",
              "      <td>50-99</td>\n",
              "      <td>Funded Startup</td>\n",
              "      <td>4</td>\n",
              "      <td>8</td>\n",
              "      <td>0.0</td>\n",
              "    </tr>\n",
              "    <tr>\n",
              "      <th>7</th>\n",
              "      <td>402</td>\n",
              "      <td>city_46</td>\n",
              "      <td>0.762</td>\n",
              "      <td>Male</td>\n",
              "      <td>Has relevent experience</td>\n",
              "      <td>no_enrollment</td>\n",
              "      <td>Graduate</td>\n",
              "      <td>STEM</td>\n",
              "      <td>13</td>\n",
              "      <td>&lt;10</td>\n",
              "      <td>Pvt Ltd</td>\n",
              "      <td>&gt;4</td>\n",
              "      <td>18</td>\n",
              "      <td>1.0</td>\n",
              "    </tr>\n",
              "    <tr>\n",
              "      <th>8</th>\n",
              "      <td>27107</td>\n",
              "      <td>city_103</td>\n",
              "      <td>0.920</td>\n",
              "      <td>Male</td>\n",
              "      <td>Has relevent experience</td>\n",
              "      <td>no_enrollment</td>\n",
              "      <td>Graduate</td>\n",
              "      <td>STEM</td>\n",
              "      <td>7</td>\n",
              "      <td>50-99</td>\n",
              "      <td>Pvt Ltd</td>\n",
              "      <td>1</td>\n",
              "      <td>46</td>\n",
              "      <td>1.0</td>\n",
              "    </tr>\n",
              "    <tr>\n",
              "      <th>11</th>\n",
              "      <td>23853</td>\n",
              "      <td>city_103</td>\n",
              "      <td>0.920</td>\n",
              "      <td>Male</td>\n",
              "      <td>Has relevent experience</td>\n",
              "      <td>no_enrollment</td>\n",
              "      <td>Graduate</td>\n",
              "      <td>STEM</td>\n",
              "      <td>5</td>\n",
              "      <td>5000-9999</td>\n",
              "      <td>Pvt Ltd</td>\n",
              "      <td>1</td>\n",
              "      <td>108</td>\n",
              "      <td>0.0</td>\n",
              "    </tr>\n",
              "    <tr>\n",
              "      <th>...</th>\n",
              "      <td>...</td>\n",
              "      <td>...</td>\n",
              "      <td>...</td>\n",
              "      <td>...</td>\n",
              "      <td>...</td>\n",
              "      <td>...</td>\n",
              "      <td>...</td>\n",
              "      <td>...</td>\n",
              "      <td>...</td>\n",
              "      <td>...</td>\n",
              "      <td>...</td>\n",
              "      <td>...</td>\n",
              "      <td>...</td>\n",
              "      <td>...</td>\n",
              "    </tr>\n",
              "    <tr>\n",
              "      <th>19147</th>\n",
              "      <td>21319</td>\n",
              "      <td>city_21</td>\n",
              "      <td>0.624</td>\n",
              "      <td>Male</td>\n",
              "      <td>No relevent experience</td>\n",
              "      <td>Full time course</td>\n",
              "      <td>Graduate</td>\n",
              "      <td>STEM</td>\n",
              "      <td>1</td>\n",
              "      <td>100-500</td>\n",
              "      <td>Pvt Ltd</td>\n",
              "      <td>1</td>\n",
              "      <td>52</td>\n",
              "      <td>1.0</td>\n",
              "    </tr>\n",
              "    <tr>\n",
              "      <th>19149</th>\n",
              "      <td>251</td>\n",
              "      <td>city_103</td>\n",
              "      <td>0.920</td>\n",
              "      <td>Male</td>\n",
              "      <td>Has relevent experience</td>\n",
              "      <td>no_enrollment</td>\n",
              "      <td>Masters</td>\n",
              "      <td>STEM</td>\n",
              "      <td>9</td>\n",
              "      <td>50-99</td>\n",
              "      <td>Pvt Ltd</td>\n",
              "      <td>1</td>\n",
              "      <td>36</td>\n",
              "      <td>1.0</td>\n",
              "    </tr>\n",
              "    <tr>\n",
              "      <th>19150</th>\n",
              "      <td>32313</td>\n",
              "      <td>city_160</td>\n",
              "      <td>0.920</td>\n",
              "      <td>Female</td>\n",
              "      <td>Has relevent experience</td>\n",
              "      <td>no_enrollment</td>\n",
              "      <td>Graduate</td>\n",
              "      <td>STEM</td>\n",
              "      <td>10</td>\n",
              "      <td>100-500</td>\n",
              "      <td>Public Sector</td>\n",
              "      <td>3</td>\n",
              "      <td>23</td>\n",
              "      <td>0.0</td>\n",
              "    </tr>\n",
              "    <tr>\n",
              "      <th>19152</th>\n",
              "      <td>29754</td>\n",
              "      <td>city_103</td>\n",
              "      <td>0.920</td>\n",
              "      <td>Female</td>\n",
              "      <td>Has relevent experience</td>\n",
              "      <td>no_enrollment</td>\n",
              "      <td>Graduate</td>\n",
              "      <td>Humanities</td>\n",
              "      <td>7</td>\n",
              "      <td>10/49</td>\n",
              "      <td>Funded Startup</td>\n",
              "      <td>1</td>\n",
              "      <td>25</td>\n",
              "      <td>0.0</td>\n",
              "    </tr>\n",
              "    <tr>\n",
              "      <th>19155</th>\n",
              "      <td>24576</td>\n",
              "      <td>city_103</td>\n",
              "      <td>0.920</td>\n",
              "      <td>Male</td>\n",
              "      <td>Has relevent experience</td>\n",
              "      <td>no_enrollment</td>\n",
              "      <td>Graduate</td>\n",
              "      <td>STEM</td>\n",
              "      <td>&gt;20</td>\n",
              "      <td>50-99</td>\n",
              "      <td>Pvt Ltd</td>\n",
              "      <td>4</td>\n",
              "      <td>44</td>\n",
              "      <td>0.0</td>\n",
              "    </tr>\n",
              "  </tbody>\n",
              "</table>\n",
              "<p>8955 rows × 14 columns</p>\n",
              "</div>"
            ],
            "text/plain": [
              "       enrollee_id      city  ...  training_hours target\n",
              "1            29725   city_40  ...              47    0.0\n",
              "4              666  city_162  ...               8    0.0\n",
              "7              402   city_46  ...              18    1.0\n",
              "8            27107  city_103  ...              46    1.0\n",
              "11           23853  city_103  ...             108    0.0\n",
              "...            ...       ...  ...             ...    ...\n",
              "19147        21319   city_21  ...              52    1.0\n",
              "19149          251  city_103  ...              36    1.0\n",
              "19150        32313  city_160  ...              23    0.0\n",
              "19152        29754  city_103  ...              25    0.0\n",
              "19155        24576  city_103  ...              44    0.0\n",
              "\n",
              "[8955 rows x 14 columns]"
            ]
          },
          "metadata": {
            "tags": []
          },
          "execution_count": 29
        },
        {
          "output_type": "stream",
          "text": [
            "time: 70.9 ms (started: 2021-03-26 13:48:43 +00:00)\n"
          ],
          "name": "stdout"
        }
      ]
    },
    {
      "cell_type": "markdown",
      "metadata": {
        "id": "ow-ZUOT-oCoc"
      },
      "source": [
        "#  Visualizing target value"
      ]
    },
    {
      "cell_type": "code",
      "metadata": {
        "colab": {
          "base_uri": "https://localhost:8080/",
          "height": 610
        },
        "id": "9SNM86XRophm",
        "outputId": "fca7bfa0-cab9-40be-c9a2-c6fb7fdc0684"
      },
      "source": [
        "values = dataset['target'].value_counts().values.tolist()\n",
        "labels = dataset['target'].value_counts().index\n",
        "plt.figure(figsize= (10,10))\n",
        "plt.title('Comparing labels of target feature')\n",
        "plt.pie(x = values, labels = labels, autopct='%1.1f%%', pctdistance= .7)\n",
        "plt.show()"
      ],
      "execution_count": 30,
      "outputs": [
        {
          "output_type": "display_data",
          "data": {
            "image/png": "[encoded data removed]",
            "text/plain": [
              "<Figure size 720x720 with 1 Axes>"
            ]
          },
          "metadata": {
            "tags": []
          }
        },
        {
          "output_type": "stream",
          "text": [
            "time: 107 ms (started: 2021-03-26 13:48:43 +00:00)\n"
          ],
          "name": "stdout"
        }
      ]
    },
    {
      "cell_type": "markdown",
      "metadata": {
        "id": "LvKgsYfrpGyf"
      },
      "source": [
        "# Visualizing gender column"
      ]
    },
    {
      "cell_type": "code",
      "metadata": {
        "colab": {
          "base_uri": "https://localhost:8080/",
          "height": 778
        },
        "id": "mqDKltNTvM4e",
        "outputId": "c8768540-4f76-470b-cafb-d3960a396923"
      },
      "source": [
        "labels = dataset['gender'].value_counts().index\n",
        "values = dataset['gender'].value_counts().tolist()\n",
        "plt.figure(figsize= (10,10))\n",
        "plt.title('Gender Distribution Pie Chart')\n",
        "plt.pie(x = values, labels = labels, autopct='%1.2f%%', pctdistance= .7, shadow=True)"
      ],
      "execution_count": 31,
      "outputs": [
        {
          "output_type": "execute_result",
          "data": {
            "text/plain": [
              "([<matplotlib.patches.Wedge at 0x7fdaaa56c410>,\n",
              "  <matplotlib.patches.Wedge at 0x7fdaa898c710>,\n",
              "  <matplotlib.patches.Wedge at 0x7fdaa8992a50>],\n",
              " [Text(-1.047760327265294, 0.3349601418212686, 'Male'),\n",
              "  Text(1.0382034092138064, -0.363501968490997, 'Female'),\n",
              "  Text(1.0995881970527113, -0.030096459964054148, 'Other')],\n",
              " [Text(-0.666756571896096, 0.2131564538862618, '90.15%'),\n",
              "  Text(0.6606748967724222, -0.23131943449427078, '8.98%'),\n",
              "  Text(0.699737943578998, -0.01915229270439809, '0.87%')])"
            ]
          },
          "metadata": {
            "tags": []
          },
          "execution_count": 31
        },
        {
          "output_type": "display_data",
          "data": {
            "image/png": "[encoded data removed]",
            "text/plain": [
              "<Figure size 720x720 with 1 Axes>"
            ]
          },
          "metadata": {
            "tags": []
          }
        },
        {
          "output_type": "stream",
          "text": [
            "time: 143 ms (started: 2021-03-26 13:48:43 +00:00)\n"
          ],
          "name": "stdout"
        }
      ]
    },
    {
      "cell_type": "markdown",
      "metadata": {
        "id": "0cCLYHuqwz8M"
      },
      "source": [
        "# Visualizing relevent_experience column"
      ]
    },
    {
      "cell_type": "code",
      "metadata": {
        "colab": {
          "base_uri": "https://localhost:8080/",
          "height": 722
        },
        "id": "cMzajqbbxS2n",
        "outputId": "79dd6f5d-1742-446a-a4ff-79fbd2682ba6"
      },
      "source": [
        "labels = dataset['relevent_experience'].value_counts().index\n",
        "values = dataset['relevent_experience'].value_counts().tolist()\n",
        "plt.figure(figsize= (10,10))\n",
        "plt.title('relevent_experience Distribution Pie Chart')\n",
        "plt.pie(x=values, labels=labels, autopct=\"%1.2f%%\", shadow=True, explode=[0, 0.2])"
      ],
      "execution_count": 32,
      "outputs": [
        {
          "output_type": "execute_result",
          "data": {
            "text/plain": [
              "([<matplotlib.patches.Wedge at 0x7fdaa87f8710>,\n",
              "  <matplotlib.patches.Wedge at 0x7fdaa8806190>],\n",
              " [Text(-1.0185232368707327, 0.41546409707021115, 'Has relevent experience'),\n",
              "  Text(1.203709268445383, -0.4910030519850983, 'No relevent experience')],\n",
              " [Text(-0.5555581292022177, 0.22661678022011514, '87.67%'),\n",
              "  Text(0.7407441651971588, -0.302155724298522, '12.33%')])"
            ]
          },
          "metadata": {
            "tags": []
          },
          "execution_count": 32
        },
        {
          "output_type": "display_data",
          "data": {
            "image/png": "[encoded data removed]",
            "text/plain": [
              "<Figure size 720x720 with 1 Axes>"
            ]
          },
          "metadata": {
            "tags": []
          }
        },
        {
          "output_type": "stream",
          "text": [
            "time: 157 ms (started: 2021-03-26 13:48:43 +00:00)\n"
          ],
          "name": "stdout"
        }
      ]
    },
    {
      "cell_type": "markdown",
      "metadata": {
        "id": "nCU7jXz40gvG"
      },
      "source": [
        "# Visualizing  enrolled_university column"
      ]
    },
    {
      "cell_type": "code",
      "metadata": {
        "colab": {
          "base_uri": "https://localhost:8080/",
          "height": 778
        },
        "id": "mpegm3IH0qNK",
        "outputId": "5522de28-6fd1-4072-a4a8-19cc229891a0"
      },
      "source": [
        "labels = dataset['enrolled_university'].value_counts().index\n",
        "values = dataset['enrolled_university'].value_counts().tolist()\n",
        "plt.figure(figsize= (10,10))\n",
        "plt.title('enrolled_university Distribution Pie Chart')\n",
        "plt.pie(x=values, labels=labels, autopct=\"%1.2f%%\", shadow=True, explode=[0, 0.2,.3])"
      ],
      "execution_count": 33,
      "outputs": [
        {
          "output_type": "execute_result",
          "data": {
            "text/plain": [
              "([<matplotlib.patches.Wedge at 0x7fdaa87c5b90>,\n",
              "  <matplotlib.patches.Wedge at 0x7fdaa87d4610>,\n",
              "  <matplotlib.patches.Wedge at 0x7fdaa87dc1d0>],\n",
              " [Text(-0.976978475373095, 0.5054829954188994, 'no_enrollment'),\n",
              "  Text(1.0245543677473397, -0.8001801969118266, 'Full time course'),\n",
              "  Text(1.3759601858237216, -0.2583284092544794, 'Part time course')],\n",
              " [Text(-0.5328973502035063, 0.2757179975012178, '84.80%'),\n",
              "  Text(0.6304949955368243, -0.49241858271497024, '9.29%'),\n",
              "  Text(0.884545833743821, -0.16606826309216532, '5.91%')])"
            ]
          },
          "metadata": {
            "tags": []
          },
          "execution_count": 33
        },
        {
          "output_type": "display_data",
          "data": {
            "image/png": "[encoded data removed]",
            "text/plain": [
              "<Figure size 720x720 with 1 Axes>"
            ]
          },
          "metadata": {
            "tags": []
          }
        },
        {
          "output_type": "stream",
          "text": [
            "time: 160 ms (started: 2021-03-26 13:48:43 +00:00)\n"
          ],
          "name": "stdout"
        }
      ]
    },
    {
      "cell_type": "markdown",
      "metadata": {
        "id": "nXqewLns1JwH"
      },
      "source": [
        "# Visualizing education_level column\n",
        "\n"
      ]
    },
    {
      "cell_type": "code",
      "metadata": {
        "colab": {
          "base_uri": "https://localhost:8080/",
          "height": 778
        },
        "id": "LfxA_uhB1UHp",
        "outputId": "738b84e5-cf78-40dc-e8f6-94a7c9bc57d4"
      },
      "source": [
        "labels = dataset['education_level'].value_counts().index\n",
        "values = dataset['education_level'].value_counts().tolist()\n",
        "plt.figure(figsize= (10,10))\n",
        "plt.title('education_level Distribution Pie Chart')\n",
        "plt.pie(x=values, labels=labels, autopct=\"%1.2f%%\", shadow=True, explode=[0, 0.05,.1])"
      ],
      "execution_count": 34,
      "outputs": [
        {
          "output_type": "execute_result",
          "data": {
            "text/plain": [
              "([<matplotlib.patches.Wedge at 0x7fdaa87c5bd0>,\n",
              "  <matplotlib.patches.Wedge at 0x7fdaa87afa50>,\n",
              "  <matplotlib.patches.Wedge at 0x7fdaa8738610>],\n",
              " [Text(-0.6414015857093599, 0.8936464658070992, 'Graduate'),\n",
              "  Text(0.58475493607736, -0.9902331365558127, 'Masters'),\n",
              "  Text(1.1952389680443638, -0.10678861956334292, 'Phd')],\n",
              " [Text(-0.3498554103869236, 0.4874435268038722, '69.82%'),\n",
              "  Text(0.330513659521986, -0.5596969902271984, '27.35%'),\n",
              "  Text(0.6972227313592121, -0.062293361411950035, '2.84%')])"
            ]
          },
          "metadata": {
            "tags": []
          },
          "execution_count": 34
        },
        {
          "output_type": "display_data",
          "data": {
            "image/png": "[encoded data removed]",
            "text/plain": [
              "<Figure size 720x720 with 1 Axes>"
            ]
          },
          "metadata": {
            "tags": []
          }
        },
        {
          "output_type": "stream",
          "text": [
            "time: 141 ms (started: 2021-03-26 13:48:43 +00:00)\n"
          ],
          "name": "stdout"
        }
      ]
    },
    {
      "cell_type": "markdown",
      "metadata": {
        "id": "aG4EK7dc1flP"
      },
      "source": [
        "# Visualizing major_discipline column"
      ]
    },
    {
      "cell_type": "code",
      "metadata": {
        "colab": {
          "base_uri": "https://localhost:8080/",
          "height": 946
        },
        "id": "gURtm6o-1qna",
        "outputId": "0a30088b-1a75-4869-a7f5-8bfbbc7d34e1"
      },
      "source": [
        "labels = dataset['major_discipline'].value_counts().index\n",
        "values = dataset['major_discipline'].value_counts().tolist()\n",
        "plt.figure(figsize= (10,10))\n",
        "plt.title('major_discipline Distribution Pie Chart')\n",
        "\n",
        "plt.pie(x=values, labels=labels, autopct=\"%1.2f%%\", shadow=True, explode=[0.1, 0.1, 0.1, 0.1, 0.2, 0.1])"
      ],
      "execution_count": 35,
      "outputs": [
        {
          "output_type": "execute_result",
          "data": {
            "text/plain": [
              "([<matplotlib.patches.Wedge at 0x7fdaa8708410>,\n",
              "  <matplotlib.patches.Wedge at 0x7fdaa8708e90>,\n",
              "  <matplotlib.patches.Wedge at 0x7fdaa8713a50>,\n",
              "  <matplotlib.patches.Wedge at 0x7fdaa871e6d0>,\n",
              "  <matplotlib.patches.Wedge at 0x7fdaa8728550>,\n",
              "  <matplotlib.patches.Wedge at 0x7fdaa86b3150>],\n",
              " [Text(-1.1317482451530583, 0.3989309584288654, 'STEM'),\n",
              "  Text(1.0260442542452959, -0.6222806347060903, 'Humanities'),\n",
              "  Text(1.1270540247411795, -0.4120063413525437, 'Other'),\n",
              "  Text(1.1687448691726874, -0.2720945254548831, 'Business Degree'),\n",
              "  Text(1.2900441709920751, -0.1605803128947311, 'Arts'),\n",
              "  Text(1.1990738021907252, -0.04713827425646206, 'No Major')],\n",
              " [Text(-0.660186476339284, 0.23270972575017146, '89.21%'),\n",
              "  Text(0.5985258149764225, -0.362997036911886, '4.22%'),\n",
              "  Text(0.6574481810990214, -0.24033703245565047, '1.98%'),\n",
              "  Text(0.6817678403507342, -0.15872180651534848, '1.90%'),\n",
              "  Text(0.7938733359951232, -0.09881865408906529, '1.44%'),\n",
              "  Text(0.6994597179445897, -0.027497326649602867, '1.25%')])"
            ]
          },
          "metadata": {
            "tags": []
          },
          "execution_count": 35
        },
        {
          "output_type": "display_data",
          "data": {
            "image/png": "[encoded data removed]",
            "text/plain": [
              "<Figure size 720x720 with 1 Axes>"
            ]
          },
          "metadata": {
            "tags": []
          }
        },
        {
          "output_type": "stream",
          "text": [
            "time: 166 ms (started: 2021-03-26 13:48:43 +00:00)\n"
          ],
          "name": "stdout"
        }
      ]
    },
    {
      "cell_type": "markdown",
      "metadata": {
        "id": "Gnf1S2pB3HEF"
      },
      "source": [
        "# Visualizing company_type column"
      ]
    },
    {
      "cell_type": "code",
      "metadata": {
        "colab": {
          "base_uri": "https://localhost:8080/",
          "height": 946
        },
        "id": "wgKiEqI23SJ2",
        "outputId": "bcb860b6-0b19-454e-bfce-45e23eeb9d5e"
      },
      "source": [
        "labels = dataset['company_type'].value_counts().index\n",
        "values = dataset['company_type'].value_counts().tolist()\n",
        "plt.figure(figsize= (10,10))\n",
        "plt.title('company_type Distribution Pie Chart')\n",
        "\n",
        "plt.pie(x=values, labels=labels, autopct=\"%1.2f%%\", shadow=True, explode=[0, 0.1,.1,.1, .15,.1])"
      ],
      "execution_count": 36,
      "outputs": [
        {
          "output_type": "execute_result",
          "data": {
            "text/plain": [
              "([<matplotlib.patches.Wedge at 0x7fdaa867f4d0>,\n",
              "  <matplotlib.patches.Wedge at 0x7fdaa867ff50>,\n",
              "  <matplotlib.patches.Wedge at 0x7fdaa868cb10>,\n",
              "  <matplotlib.patches.Wedge at 0x7fdaa8696790>,\n",
              "  <matplotlib.patches.Wedge at 0x7fdaa86a0610>,\n",
              "  <matplotlib.patches.Wedge at 0x7fdaa86ad210>],\n",
              " [Text(-0.798741469434902, 0.7563147922690483, 'Pvt Ltd'),\n",
              "  Text(0.38839227574421853, -1.1354080500605177, 'Funded Startup'),\n",
              "  Text(0.8629153058546304, -0.8338927838288385, 'Public Sector'),\n",
              "  Text(1.088058130191492, -0.506092388131055, 'Early Stage Startup'),\n",
              "  Text(1.2308188553886763, -0.2181397378280938, 'NGO'),\n",
              "  Text(1.199617210427734, -0.030307564164452044, 'Other')],\n",
              " [Text(-0.4356771651463101, 0.41253534123766267, '75.87%'),\n",
              "  Text(0.22656216085079414, -0.6623213625353019, '8.75%'),\n",
              "  Text(0.5033672617485343, -0.4864374572334891, '6.30%'),\n",
              "  Text(0.6347005759450369, -0.2952205597431154, '4.30%'),\n",
              "  Text(0.7384913132332056, -0.13088384269685627, '3.98%'),\n",
              "  Text(0.6997767060828447, -0.01767941242926369, '0.80%')])"
            ]
          },
          "metadata": {
            "tags": []
          },
          "execution_count": 36
        },
        {
          "output_type": "display_data",
          "data": {
            "image/png": "[encoded data removed]",
            "text/plain": [
              "<Figure size 720x720 with 1 Axes>"
            ]
          },
          "metadata": {
            "tags": []
          }
        },
        {
          "output_type": "stream",
          "text": [
            "time: 174 ms (started: 2021-03-26 13:48:44 +00:00)\n"
          ],
          "name": "stdout"
        }
      ]
    },
    {
      "cell_type": "markdown",
      "metadata": {
        "id": "WjybhRns4VT3"
      },
      "source": [
        "# Feature disturbution"
      ]
    },
    {
      "cell_type": "code",
      "metadata": {
        "colab": {
          "base_uri": "https://localhost:8080/",
          "height": 1000
        },
        "id": "KaVyFqrr8xWF",
        "outputId": "0e6e26b8-d2f4-48a4-8a85-77f5655aa89e"
      },
      "source": [
        "import seaborn as sn\n",
        "fig_dims = (20, 14)\n",
        "fig, ax =plt.subplots(3,2,figsize = fig_dims)\n",
        "\n",
        "sn.countplot(x = dataset['gender'],hue = dataset['target'], ax=ax[0,0], edgecolor=sn.color_palette(\"bright\"))\n",
        "sn.countplot(dataset['education_level'],hue = dataset['target'], ax=ax[0,1])\n",
        "sn.countplot(x = dataset['relevent_experience'],hue = dataset['target'], ax=ax[1,0])\n",
        "sn.countplot(dataset['enrolled_university'],hue = dataset['target'], ax=ax[1,1])\n",
        "sn.countplot(x = dataset['major_discipline'],hue = dataset['target'], ax=ax[2,0])\n",
        "sn.countplot(x = dataset['company_type'],hue = dataset['target'], ax=ax[2,1])\n",
        "\n",
        "\n",
        "fig.suptitle('Features distribution based on target ',fontsize=40)\n",
        "fig.show()"
      ],
      "execution_count": 37,
      "outputs": [
        {
          "output_type": "stream",
          "text": [
            "/usr/local/lib/python3.7/dist-packages/seaborn/_decorators.py:43: FutureWarning: Pass the following variable as a keyword arg: x. From version 0.12, the only valid positional argument will be `data`, and passing other arguments without an explicit keyword will result in an error or misinterpretation.\n",
            "  FutureWarning\n",
            "/usr/local/lib/python3.7/dist-packages/seaborn/_decorators.py:43: FutureWarning: Pass the following variable as a keyword arg: x. From version 0.12, the only valid positional argument will be `data`, and passing other arguments without an explicit keyword will result in an error or misinterpretation.\n",
            "  FutureWarning\n"
          ],
          "name": "stderr"
        },
        {
          "output_type": "display_data",
          "data": {
            "image/png": "[encoded data removed]",
            "text/plain": [
              "<Figure size 1440x1008 with 6 Axes>"
            ]
          },
          "metadata": {
            "tags": [],
            "needs_background": "light"
          }
        },
        {
          "output_type": "stream",
          "text": [
            "time: 1.33 s (started: 2021-03-26 13:48:44 +00:00)\n"
          ],
          "name": "stdout"
        }
      ]
    },
    {
      "cell_type": "markdown",
      "metadata": {
        "id": "gHUiS3njEH9a"
      },
      "source": [
        "# City_development vs target"
      ]
    },
    {
      "cell_type": "code",
      "metadata": {
        "colab": {
          "base_uri": "https://localhost:8080/",
          "height": 299
        },
        "id": "Vi_jjsDREHeM",
        "outputId": "4bd5755e-fede-4b74-f796-ff6f6befff8d"
      },
      "source": [
        "g = sn.kdeplot(dataset['city_development_index'][(dataset[\"target\"] == 0) & (dataset['city_development_index'].notnull())], color=\"Red\", shade = True)\n",
        "g = sn.kdeplot(dataset['city_development_index'][(dataset[\"target\"] == 1) & (dataset['city_development_index'].notnull())], ax =g, color=\"Blue\", shade= True)\n",
        "g.set_xlabel('city_development_index')\n",
        "g.set_ylabel(\"Frequency\")\n",
        "g = g.legend([\"Not looking for job change,\",\"looking for job change,\"])"
      ],
      "execution_count": 38,
      "outputs": [
        {
          "output_type": "display_data",
          "data": {
            "image/png": "[encoded data removed]",
            "text/plain": [
              "<Figure size 432x288 with 1 Axes>"
            ]
          },
          "metadata": {
            "tags": [],
            "needs_background": "light"
          }
        },
        {
          "output_type": "stream",
          "text": [
            "time: 348 ms (started: 2021-03-26 13:48:45 +00:00)\n"
          ],
          "name": "stdout"
        }
      ]
    },
    {
      "cell_type": "markdown",
      "metadata": {
        "id": "na_MzFKxFUOq"
      },
      "source": [
        "# Experience vs target"
      ]
    },
    {
      "cell_type": "markdown",
      "metadata": {
        "id": "Rv87RaWRg4cd"
      },
      "source": [
        "# replacing '>20' with 21 in the experience col"
      ]
    },
    {
      "cell_type": "code",
      "metadata": {
        "colab": {
          "base_uri": "https://localhost:8080/"
        },
        "id": "PB0lh3zZhA8K",
        "outputId": "12ec1d5c-377e-4d64-92d1-0acf81b28665"
      },
      "source": [
        "dataset[\"experience\"].replace({\"<1\": \"0\", \">20\": \"21\"}, inplace=True)\n",
        "dataset['experience'] = dataset['experience'].astype(int)"
      ],
      "execution_count": 39,
      "outputs": [
        {
          "output_type": "stream",
          "text": [
            "time: 10.4 ms (started: 2021-03-26 13:48:46 +00:00)\n"
          ],
          "name": "stdout"
        }
      ]
    },
    {
      "cell_type": "code",
      "metadata": {
        "colab": {
          "base_uri": "https://localhost:8080/",
          "height": 298
        },
        "id": "O0iIaLgqefe6",
        "outputId": "9696e0f2-0ed7-4b1d-ddcd-c80a036b3362"
      },
      "source": [
        "g = sn.kdeplot(dataset['experience'][(dataset[\"target\"] == 0) & (dataset['experience'].notnull\n",
        "())], color=\"Red\", shade = True)\n",
        "g = sn.kdeplot(dataset['experience'][(dataset[\"target\"] == 1) & (dataset['experience'].notnull())], ax =g, color=\"Blue\", shade= True)\n",
        "g.set_xlabel('experience')\n",
        "g.set_ylabel(\"Frequency\")\n",
        "g = g.legend([\"Not looking for job change,\",\"looking for job change,\"])"
      ],
      "execution_count": 40,
      "outputs": [
        {
          "output_type": "display_data",
          "data": {
            "image/png": "[encoded data removed]",
            "text/plain": [
              "<Figure size 432x288 with 1 Axes>"
            ]
          },
          "metadata": {
            "tags": [],
            "needs_background": "light"
          }
        },
        {
          "output_type": "stream",
          "text": [
            "time: 301 ms (started: 2021-03-26 13:48:46 +00:00)\n"
          ],
          "name": "stdout"
        }
      ]
    },
    {
      "cell_type": "markdown",
      "metadata": {
        "id": "NB-O2PDEfYP6"
      },
      "source": [
        "# Last new Job vs target"
      ]
    },
    {
      "cell_type": "markdown",
      "metadata": {
        "id": "SBy4uF0WSAfL"
      },
      "source": [
        "# replace '>4' with 5  in the last_new jod col"
      ]
    },
    {
      "cell_type": "code",
      "metadata": {
        "colab": {
          "base_uri": "https://localhost:8080/"
        },
        "id": "PGQ4fI0GSAAc",
        "outputId": "476b135d-7f11-4588-8bb4-9d76850d5725"
      },
      "source": [
        "dataset[\"last_new_job\"].replace({\"never\": \"0\", \">4\": \"5\"}, inplace=True)\n",
        "dataset['last_new_job'] = dataset['last_new_job'].astype(int)"
      ],
      "execution_count": 41,
      "outputs": [
        {
          "output_type": "stream",
          "text": [
            "time: 7.23 ms (started: 2021-03-26 13:48:46 +00:00)\n"
          ],
          "name": "stdout"
        }
      ]
    },
    {
      "cell_type": "code",
      "metadata": {
        "colab": {
          "base_uri": "https://localhost:8080/",
          "height": 299
        },
        "id": "8NsJYQX8g8jR",
        "outputId": "182f4f98-7239-4ef2-b504-b7fb59ce5892"
      },
      "source": [
        "g = sn.kdeplot(dataset['last_new_job'][(dataset[\"target\"] == 0) & (dataset['last_new_job'].notnull())], color=\"Red\", shade = True)\n",
        "g = sn.kdeplot(dataset['last_new_job'][(dataset[\"target\"] == 1) & (dataset['last_new_job'].notnull())], ax =g, color=\"Blue\", shade= True)\n",
        "g.set_xlabel('last_new_job')\n",
        "g.set_ylabel(\"Frequency\")\n",
        "g = g.legend([\"Not looking for job change,\",\"looking for job change,\"])"
      ],
      "execution_count": 42,
      "outputs": [
        {
          "output_type": "display_data",
          "data": {
            "image/png": "[encoded data removed]",
            "text/plain": [
              "<Figure size 432x288 with 1 Axes>"
            ]
          },
          "metadata": {
            "tags": [],
            "needs_background": "light"
          }
        },
        {
          "output_type": "stream",
          "text": [
            "time: 417 ms (started: 2021-03-26 13:48:46 +00:00)\n"
          ],
          "name": "stdout"
        }
      ]
    },
    {
      "cell_type": "markdown",
      "metadata": {
        "id": "gHbiFfLUhWOg"
      },
      "source": [
        "# Training hour vs target"
      ]
    },
    {
      "cell_type": "code",
      "metadata": {
        "colab": {
          "base_uri": "https://localhost:8080/",
          "height": 300
        },
        "id": "w3CN4Nrom93W",
        "outputId": "7dfce34f-92f0-4691-e1d4-87fc8cf5f6a5"
      },
      "source": [
        "g = sn.kdeplot(dataset['training_hours'][(dataset[\"target\"] == 0) & (dataset['training_hours'].notnull())], color=\"Red\", shade = True)\n",
        "g = sn.kdeplot(dataset['training_hours'][(dataset[\"target\"] == 1) & (dataset['training_hours'].notnull())], ax =g, color=\"Green\", shade= True)\n",
        "g.set_xlabel('training_hours')\n",
        "g.set_ylabel(\"Frequency\")\n",
        "g = g.legend([\"Not looking for job change,\",\"looking for job change,\"])"
      ],
      "execution_count": 43,
      "outputs": [
        {
          "output_type": "display_data",
          "data": {
            "image/png": "[encoded data removed]",
            "text/plain": [
              "<Figure size 432x288 with 1 Axes>"
            ]
          },
          "metadata": {
            "tags": [],
            "needs_background": "light"
          }
        },
        {
          "output_type": "stream",
          "text": [
            "time: 328 ms (started: 2021-03-26 13:48:46 +00:00)\n"
          ],
          "name": "stdout"
        }
      ]
    },
    {
      "cell_type": "markdown",
      "metadata": {
        "id": "qG96BEqRJrMP"
      },
      "source": [
        "# onehotencoding the city col"
      ]
    },
    {
      "cell_type": "code",
      "metadata": {
        "id": "-IY2uE2KJtlP",
        "colab": {
          "base_uri": "https://localhost:8080/"
        },
        "outputId": "8b695272-f135-4316-8d11-a0b0d8d00685"
      },
      "source": [
        "dataset = pd.get_dummies(dataset, columns=[\"city\"], prefix=[\"\"])\n",
        "dataset = dataset.drop(['_city_99'], axis=1)"
      ],
      "execution_count": 44,
      "outputs": [
        {
          "output_type": "stream",
          "text": [
            "time: 22.5 ms (started: 2021-03-26 13:48:47 +00:00)\n"
          ],
          "name": "stdout"
        }
      ]
    },
    {
      "cell_type": "markdown",
      "metadata": {
        "id": "vndviqAdKOo_"
      },
      "source": [
        "# oneHot encoding the gender col"
      ]
    },
    {
      "cell_type": "code",
      "metadata": {
        "id": "DRdT7BqNKSR1",
        "colab": {
          "base_uri": "https://localhost:8080/"
        },
        "outputId": "43c41957-b89f-4a18-8358-d9e931f08e9b"
      },
      "source": [
        "dataset = pd.get_dummies(dataset, columns=[\"gender\"], prefix=[\"\"])\n",
        "dataset = dataset.drop(['_Other'], axis=1)"
      ],
      "execution_count": 45,
      "outputs": [
        {
          "output_type": "stream",
          "text": [
            "time: 17.8 ms (started: 2021-03-26 13:48:47 +00:00)\n"
          ],
          "name": "stdout"
        }
      ]
    },
    {
      "cell_type": "markdown",
      "metadata": {
        "id": "H0pB9XfqKY-T"
      },
      "source": [
        "# Label encoding the experience relevences col"
      ]
    },
    {
      "cell_type": "code",
      "metadata": {
        "id": "4x1x7wmEKe7o",
        "colab": {
          "base_uri": "https://localhost:8080/"
        },
        "outputId": "05587726-7b57-4ebb-c934-2ab643fd8168"
      },
      "source": [
        "labelencoder = LabelEncoder()\n",
        "dataset['relevent_experience'] = labelencoder.fit_transform(dataset['relevent_experience'])"
      ],
      "execution_count": 46,
      "outputs": [
        {
          "output_type": "stream",
          "text": [
            "time: 8.65 ms (started: 2021-03-26 13:48:47 +00:00)\n"
          ],
          "name": "stdout"
        }
      ]
    },
    {
      "cell_type": "markdown",
      "metadata": {
        "id": "zGBgq5tFMlAM"
      },
      "source": [
        "# onehotencoding the enrolled university col"
      ]
    },
    {
      "cell_type": "code",
      "metadata": {
        "id": "ImuHbICcMmk7",
        "colab": {
          "base_uri": "https://localhost:8080/"
        },
        "outputId": "87966c6c-062c-4d99-a3a3-2a099eb3e5d5"
      },
      "source": [
        "dataset = pd.get_dummies(dataset, columns=[\"enrolled_university\"], prefix=[\"\"])\n",
        "dataset = dataset.drop(['_no_enrollment'], axis=1)"
      ],
      "execution_count": 47,
      "outputs": [
        {
          "output_type": "stream",
          "text": [
            "time: 13.6 ms (started: 2021-03-26 13:48:47 +00:00)\n"
          ],
          "name": "stdout"
        }
      ]
    },
    {
      "cell_type": "markdown",
      "metadata": {
        "id": "qzfn8r3wMqfZ"
      },
      "source": [
        "# nehotencoding the education_level col"
      ]
    },
    {
      "cell_type": "code",
      "metadata": {
        "id": "bCSJ7U1bMtrm",
        "colab": {
          "base_uri": "https://localhost:8080/"
        },
        "outputId": "7dd1ff5c-ea8b-4484-8e7e-f7ffa0dc7a88"
      },
      "source": [
        "dataset.rename(columns = {'education_level':'education'}, inplace = True)\n",
        "dataset = pd.get_dummies(dataset, columns=[\"education\"], prefix=[\"Education\"])\n",
        "dataset = dataset.drop(['Education_Phd'], axis=1)"
      ],
      "execution_count": 48,
      "outputs": [
        {
          "output_type": "stream",
          "text": [
            "time: 19.9 ms (started: 2021-03-26 13:48:47 +00:00)\n"
          ],
          "name": "stdout"
        }
      ]
    },
    {
      "cell_type": "markdown",
      "metadata": {
        "id": "IXJ7X2xcM1P3"
      },
      "source": [
        "# onehotencoding the major discipline col"
      ]
    },
    {
      "cell_type": "code",
      "metadata": {
        "id": "GUZF59BTMxpw",
        "colab": {
          "base_uri": "https://localhost:8080/"
        },
        "outputId": "eb59657c-07e7-49a2-c1f0-7b7125338f79"
      },
      "source": [
        "dataset = pd.get_dummies(dataset, columns=[\"major_discipline\"], prefix=[\"MajorDegreeIn\"])\n",
        "dataset = dataset.drop(['MajorDegreeIn_Other'], axis=1)"
      ],
      "execution_count": 49,
      "outputs": [
        {
          "output_type": "stream",
          "text": [
            "time: 17.7 ms (started: 2021-03-26 13:48:47 +00:00)\n"
          ],
          "name": "stdout"
        }
      ]
    },
    {
      "cell_type": "markdown",
      "metadata": {
        "id": "oEYcN8C-hEqf"
      },
      "source": [
        "# onehotencoding the company size col"
      ]
    },
    {
      "cell_type": "code",
      "metadata": {
        "colab": {
          "base_uri": "https://localhost:8080/"
        },
        "id": "cndrYRd2hEWL",
        "outputId": "c589218c-895b-4549-e835-1f5378051dc4"
      },
      "source": [
        "dataset = pd.get_dummies(dataset, columns=[\"company_size\"], prefix=[\"companySize\"])\n",
        "dataset = dataset.drop(['companySize_500-999'], axis=1)"
      ],
      "execution_count": 50,
      "outputs": [
        {
          "output_type": "stream",
          "text": [
            "time: 16.8 ms (started: 2021-03-26 13:48:47 +00:00)\n"
          ],
          "name": "stdout"
        }
      ]
    },
    {
      "cell_type": "markdown",
      "metadata": {
        "id": "i31fZJr_HRS_"
      },
      "source": [
        "# onehotencoding the company_type col"
      ]
    },
    {
      "cell_type": "code",
      "metadata": {
        "colab": {
          "base_uri": "https://localhost:8080/"
        },
        "id": "u2ToqxGFRk4b",
        "outputId": "3e6a9285-ceb6-4c9a-a66c-05031975c66b"
      },
      "source": [
        "dataset = pd.get_dummies(dataset, columns=[\"company_type\"], prefix=[\"companyType\"])\n",
        "dataset = dataset.drop(['companyType_Other'], axis=1)"
      ],
      "execution_count": 51,
      "outputs": [
        {
          "output_type": "stream",
          "text": [
            "time: 18.1 ms (started: 2021-03-26 13:48:47 +00:00)\n"
          ],
          "name": "stdout"
        }
      ]
    },
    {
      "cell_type": "markdown",
      "metadata": {
        "id": "Sg4G2MC0S2yg"
      },
      "source": [
        "# coverting the columns to numeric"
      ]
    },
    {
      "cell_type": "code",
      "metadata": {
        "colab": {
          "base_uri": "https://localhost:8080/",
          "height": 472
        },
        "id": "mayaCEJXS70F",
        "outputId": "c604021f-6f3e-4fdd-f239-6a0bdcea4ed5"
      },
      "source": [
        "dataset.apply(pd.to_numeric)"
      ],
      "execution_count": 52,
      "outputs": [
        {
          "output_type": "execute_result",
          "data": {
            "text/html": [
              "<div>\n",
              "<style scoped>\n",
              "    .dataframe tbody tr th:only-of-type {\n",
              "        vertical-align: middle;\n",
              "    }\n",
              "\n",
              "    .dataframe tbody tr th {\n",
              "        vertical-align: top;\n",
              "    }\n",
              "\n",
              "    .dataframe thead th {\n",
              "        text-align: right;\n",
              "    }\n",
              "</style>\n",
              "<table border=\"1\" class=\"dataframe\">\n",
              "  <thead>\n",
              "    <tr style=\"text-align: right;\">\n",
              "      <th></th>\n",
              "      <th>enrollee_id</th>\n",
              "      <th>city_development_index</th>\n",
              "      <th>relevent_experience</th>\n",
              "      <th>experience</th>\n",
              "      <th>last_new_job</th>\n",
              "      <th>training_hours</th>\n",
              "      <th>target</th>\n",
              "      <th>_city_1</th>\n",
              "      <th>_city_10</th>\n",
              "      <th>_city_100</th>\n",
              "      <th>_city_101</th>\n",
              "      <th>_city_102</th>\n",
              "      <th>_city_103</th>\n",
              "      <th>_city_104</th>\n",
              "      <th>_city_105</th>\n",
              "      <th>_city_106</th>\n",
              "      <th>_city_107</th>\n",
              "      <th>_city_109</th>\n",
              "      <th>_city_11</th>\n",
              "      <th>_city_114</th>\n",
              "      <th>_city_115</th>\n",
              "      <th>_city_116</th>\n",
              "      <th>_city_117</th>\n",
              "      <th>_city_118</th>\n",
              "      <th>_city_12</th>\n",
              "      <th>_city_120</th>\n",
              "      <th>_city_121</th>\n",
              "      <th>_city_123</th>\n",
              "      <th>_city_126</th>\n",
              "      <th>_city_127</th>\n",
              "      <th>_city_128</th>\n",
              "      <th>_city_129</th>\n",
              "      <th>_city_13</th>\n",
              "      <th>_city_131</th>\n",
              "      <th>_city_133</th>\n",
              "      <th>_city_134</th>\n",
              "      <th>_city_136</th>\n",
              "      <th>_city_138</th>\n",
              "      <th>_city_139</th>\n",
              "      <th>_city_14</th>\n",
              "      <th>...</th>\n",
              "      <th>_city_75</th>\n",
              "      <th>_city_76</th>\n",
              "      <th>_city_77</th>\n",
              "      <th>_city_78</th>\n",
              "      <th>_city_80</th>\n",
              "      <th>_city_81</th>\n",
              "      <th>_city_82</th>\n",
              "      <th>_city_83</th>\n",
              "      <th>_city_84</th>\n",
              "      <th>_city_89</th>\n",
              "      <th>_city_9</th>\n",
              "      <th>_city_90</th>\n",
              "      <th>_city_91</th>\n",
              "      <th>_city_93</th>\n",
              "      <th>_city_94</th>\n",
              "      <th>_city_97</th>\n",
              "      <th>_city_98</th>\n",
              "      <th>_Female</th>\n",
              "      <th>_Male</th>\n",
              "      <th>_Full time course</th>\n",
              "      <th>_Part time course</th>\n",
              "      <th>Education_Graduate</th>\n",
              "      <th>Education_Masters</th>\n",
              "      <th>MajorDegreeIn_Arts</th>\n",
              "      <th>MajorDegreeIn_Business Degree</th>\n",
              "      <th>MajorDegreeIn_Humanities</th>\n",
              "      <th>MajorDegreeIn_No Major</th>\n",
              "      <th>MajorDegreeIn_STEM</th>\n",
              "      <th>companySize_10/49</th>\n",
              "      <th>companySize_100-500</th>\n",
              "      <th>companySize_1000-4999</th>\n",
              "      <th>companySize_10000+</th>\n",
              "      <th>companySize_50-99</th>\n",
              "      <th>companySize_5000-9999</th>\n",
              "      <th>companySize_&lt;10</th>\n",
              "      <th>companyType_Early Stage Startup</th>\n",
              "      <th>companyType_Funded Startup</th>\n",
              "      <th>companyType_NGO</th>\n",
              "      <th>companyType_Public Sector</th>\n",
              "      <th>companyType_Pvt Ltd</th>\n",
              "    </tr>\n",
              "  </thead>\n",
              "  <tbody>\n",
              "    <tr>\n",
              "      <th>1</th>\n",
              "      <td>29725</td>\n",
              "      <td>0.776</td>\n",
              "      <td>1</td>\n",
              "      <td>15</td>\n",
              "      <td>5</td>\n",
              "      <td>47</td>\n",
              "      <td>0.0</td>\n",
              "      <td>0</td>\n",
              "      <td>0</td>\n",
              "      <td>0</td>\n",
              "      <td>0</td>\n",
              "      <td>0</td>\n",
              "      <td>0</td>\n",
              "      <td>0</td>\n",
              "      <td>0</td>\n",
              "      <td>0</td>\n",
              "      <td>0</td>\n",
              "      <td>0</td>\n",
              "      <td>0</td>\n",
              "      <td>0</td>\n",
              "      <td>0</td>\n",
              "      <td>0</td>\n",
              "      <td>0</td>\n",
              "      <td>0</td>\n",
              "      <td>0</td>\n",
              "      <td>0</td>\n",
              "      <td>0</td>\n",
              "      <td>0</td>\n",
              "      <td>0</td>\n",
              "      <td>0</td>\n",
              "      <td>0</td>\n",
              "      <td>0</td>\n",
              "      <td>0</td>\n",
              "      <td>0</td>\n",
              "      <td>0</td>\n",
              "      <td>0</td>\n",
              "      <td>0</td>\n",
              "      <td>0</td>\n",
              "      <td>0</td>\n",
              "      <td>0</td>\n",
              "      <td>...</td>\n",
              "      <td>0</td>\n",
              "      <td>0</td>\n",
              "      <td>0</td>\n",
              "      <td>0</td>\n",
              "      <td>0</td>\n",
              "      <td>0</td>\n",
              "      <td>0</td>\n",
              "      <td>0</td>\n",
              "      <td>0</td>\n",
              "      <td>0</td>\n",
              "      <td>0</td>\n",
              "      <td>0</td>\n",
              "      <td>0</td>\n",
              "      <td>0</td>\n",
              "      <td>0</td>\n",
              "      <td>0</td>\n",
              "      <td>0</td>\n",
              "      <td>0</td>\n",
              "      <td>1</td>\n",
              "      <td>0</td>\n",
              "      <td>0</td>\n",
              "      <td>1</td>\n",
              "      <td>0</td>\n",
              "      <td>0</td>\n",
              "      <td>0</td>\n",
              "      <td>0</td>\n",
              "      <td>0</td>\n",
              "      <td>1</td>\n",
              "      <td>0</td>\n",
              "      <td>0</td>\n",
              "      <td>0</td>\n",
              "      <td>0</td>\n",
              "      <td>1</td>\n",
              "      <td>0</td>\n",
              "      <td>0</td>\n",
              "      <td>0</td>\n",
              "      <td>0</td>\n",
              "      <td>0</td>\n",
              "      <td>0</td>\n",
              "      <td>1</td>\n",
              "    </tr>\n",
              "    <tr>\n",
              "      <th>4</th>\n",
              "      <td>666</td>\n",
              "      <td>0.767</td>\n",
              "      <td>0</td>\n",
              "      <td>21</td>\n",
              "      <td>4</td>\n",
              "      <td>8</td>\n",
              "      <td>0.0</td>\n",
              "      <td>0</td>\n",
              "      <td>0</td>\n",
              "      <td>0</td>\n",
              "      <td>0</td>\n",
              "      <td>0</td>\n",
              "      <td>0</td>\n",
              "      <td>0</td>\n",
              "      <td>0</td>\n",
              "      <td>0</td>\n",
              "      <td>0</td>\n",
              "      <td>0</td>\n",
              "      <td>0</td>\n",
              "      <td>0</td>\n",
              "      <td>0</td>\n",
              "      <td>0</td>\n",
              "      <td>0</td>\n",
              "      <td>0</td>\n",
              "      <td>0</td>\n",
              "      <td>0</td>\n",
              "      <td>0</td>\n",
              "      <td>0</td>\n",
              "      <td>0</td>\n",
              "      <td>0</td>\n",
              "      <td>0</td>\n",
              "      <td>0</td>\n",
              "      <td>0</td>\n",
              "      <td>0</td>\n",
              "      <td>0</td>\n",
              "      <td>0</td>\n",
              "      <td>0</td>\n",
              "      <td>0</td>\n",
              "      <td>0</td>\n",
              "      <td>0</td>\n",
              "      <td>...</td>\n",
              "      <td>0</td>\n",
              "      <td>0</td>\n",
              "      <td>0</td>\n",
              "      <td>0</td>\n",
              "      <td>0</td>\n",
              "      <td>0</td>\n",
              "      <td>0</td>\n",
              "      <td>0</td>\n",
              "      <td>0</td>\n",
              "      <td>0</td>\n",
              "      <td>0</td>\n",
              "      <td>0</td>\n",
              "      <td>0</td>\n",
              "      <td>0</td>\n",
              "      <td>0</td>\n",
              "      <td>0</td>\n",
              "      <td>0</td>\n",
              "      <td>0</td>\n",
              "      <td>1</td>\n",
              "      <td>0</td>\n",
              "      <td>0</td>\n",
              "      <td>0</td>\n",
              "      <td>1</td>\n",
              "      <td>0</td>\n",
              "      <td>0</td>\n",
              "      <td>0</td>\n",
              "      <td>0</td>\n",
              "      <td>1</td>\n",
              "      <td>0</td>\n",
              "      <td>0</td>\n",
              "      <td>0</td>\n",
              "      <td>0</td>\n",
              "      <td>1</td>\n",
              "      <td>0</td>\n",
              "      <td>0</td>\n",
              "      <td>0</td>\n",
              "      <td>1</td>\n",
              "      <td>0</td>\n",
              "      <td>0</td>\n",
              "      <td>0</td>\n",
              "    </tr>\n",
              "    <tr>\n",
              "      <th>7</th>\n",
              "      <td>402</td>\n",
              "      <td>0.762</td>\n",
              "      <td>0</td>\n",
              "      <td>13</td>\n",
              "      <td>5</td>\n",
              "      <td>18</td>\n",
              "      <td>1.0</td>\n",
              "      <td>0</td>\n",
              "      <td>0</td>\n",
              "      <td>0</td>\n",
              "      <td>0</td>\n",
              "      <td>0</td>\n",
              "      <td>0</td>\n",
              "      <td>0</td>\n",
              "      <td>0</td>\n",
              "      <td>0</td>\n",
              "      <td>0</td>\n",
              "      <td>0</td>\n",
              "      <td>0</td>\n",
              "      <td>0</td>\n",
              "      <td>0</td>\n",
              "      <td>0</td>\n",
              "      <td>0</td>\n",
              "      <td>0</td>\n",
              "      <td>0</td>\n",
              "      <td>0</td>\n",
              "      <td>0</td>\n",
              "      <td>0</td>\n",
              "      <td>0</td>\n",
              "      <td>0</td>\n",
              "      <td>0</td>\n",
              "      <td>0</td>\n",
              "      <td>0</td>\n",
              "      <td>0</td>\n",
              "      <td>0</td>\n",
              "      <td>0</td>\n",
              "      <td>0</td>\n",
              "      <td>0</td>\n",
              "      <td>0</td>\n",
              "      <td>0</td>\n",
              "      <td>...</td>\n",
              "      <td>0</td>\n",
              "      <td>0</td>\n",
              "      <td>0</td>\n",
              "      <td>0</td>\n",
              "      <td>0</td>\n",
              "      <td>0</td>\n",
              "      <td>0</td>\n",
              "      <td>0</td>\n",
              "      <td>0</td>\n",
              "      <td>0</td>\n",
              "      <td>0</td>\n",
              "      <td>0</td>\n",
              "      <td>0</td>\n",
              "      <td>0</td>\n",
              "      <td>0</td>\n",
              "      <td>0</td>\n",
              "      <td>0</td>\n",
              "      <td>0</td>\n",
              "      <td>1</td>\n",
              "      <td>0</td>\n",
              "      <td>0</td>\n",
              "      <td>1</td>\n",
              "      <td>0</td>\n",
              "      <td>0</td>\n",
              "      <td>0</td>\n",
              "      <td>0</td>\n",
              "      <td>0</td>\n",
              "      <td>1</td>\n",
              "      <td>0</td>\n",
              "      <td>0</td>\n",
              "      <td>0</td>\n",
              "      <td>0</td>\n",
              "      <td>0</td>\n",
              "      <td>0</td>\n",
              "      <td>1</td>\n",
              "      <td>0</td>\n",
              "      <td>0</td>\n",
              "      <td>0</td>\n",
              "      <td>0</td>\n",
              "      <td>1</td>\n",
              "    </tr>\n",
              "    <tr>\n",
              "      <th>8</th>\n",
              "      <td>27107</td>\n",
              "      <td>0.920</td>\n",
              "      <td>0</td>\n",
              "      <td>7</td>\n",
              "      <td>1</td>\n",
              "      <td>46</td>\n",
              "      <td>1.0</td>\n",
              "      <td>0</td>\n",
              "      <td>0</td>\n",
              "      <td>0</td>\n",
              "      <td>0</td>\n",
              "      <td>0</td>\n",
              "      <td>1</td>\n",
              "      <td>0</td>\n",
              "      <td>0</td>\n",
              "      <td>0</td>\n",
              "      <td>0</td>\n",
              "      <td>0</td>\n",
              "      <td>0</td>\n",
              "      <td>0</td>\n",
              "      <td>0</td>\n",
              "      <td>0</td>\n",
              "      <td>0</td>\n",
              "      <td>0</td>\n",
              "      <td>0</td>\n",
              "      <td>0</td>\n",
              "      <td>0</td>\n",
              "      <td>0</td>\n",
              "      <td>0</td>\n",
              "      <td>0</td>\n",
              "      <td>0</td>\n",
              "      <td>0</td>\n",
              "      <td>0</td>\n",
              "      <td>0</td>\n",
              "      <td>0</td>\n",
              "      <td>0</td>\n",
              "      <td>0</td>\n",
              "      <td>0</td>\n",
              "      <td>0</td>\n",
              "      <td>0</td>\n",
              "      <td>...</td>\n",
              "      <td>0</td>\n",
              "      <td>0</td>\n",
              "      <td>0</td>\n",
              "      <td>0</td>\n",
              "      <td>0</td>\n",
              "      <td>0</td>\n",
              "      <td>0</td>\n",
              "      <td>0</td>\n",
              "      <td>0</td>\n",
              "      <td>0</td>\n",
              "      <td>0</td>\n",
              "      <td>0</td>\n",
              "      <td>0</td>\n",
              "      <td>0</td>\n",
              "      <td>0</td>\n",
              "      <td>0</td>\n",
              "      <td>0</td>\n",
              "      <td>0</td>\n",
              "      <td>1</td>\n",
              "      <td>0</td>\n",
              "      <td>0</td>\n",
              "      <td>1</td>\n",
              "      <td>0</td>\n",
              "      <td>0</td>\n",
              "      <td>0</td>\n",
              "      <td>0</td>\n",
              "      <td>0</td>\n",
              "      <td>1</td>\n",
              "      <td>0</td>\n",
              "      <td>0</td>\n",
              "      <td>0</td>\n",
              "      <td>0</td>\n",
              "      <td>1</td>\n",
              "      <td>0</td>\n",
              "      <td>0</td>\n",
              "      <td>0</td>\n",
              "      <td>0</td>\n",
              "      <td>0</td>\n",
              "      <td>0</td>\n",
              "      <td>1</td>\n",
              "    </tr>\n",
              "    <tr>\n",
              "      <th>11</th>\n",
              "      <td>23853</td>\n",
              "      <td>0.920</td>\n",
              "      <td>0</td>\n",
              "      <td>5</td>\n",
              "      <td>1</td>\n",
              "      <td>108</td>\n",
              "      <td>0.0</td>\n",
              "      <td>0</td>\n",
              "      <td>0</td>\n",
              "      <td>0</td>\n",
              "      <td>0</td>\n",
              "      <td>0</td>\n",
              "      <td>1</td>\n",
              "      <td>0</td>\n",
              "      <td>0</td>\n",
              "      <td>0</td>\n",
              "      <td>0</td>\n",
              "      <td>0</td>\n",
              "      <td>0</td>\n",
              "      <td>0</td>\n",
              "      <td>0</td>\n",
              "      <td>0</td>\n",
              "      <td>0</td>\n",
              "      <td>0</td>\n",
              "      <td>0</td>\n",
              "      <td>0</td>\n",
              "      <td>0</td>\n",
              "      <td>0</td>\n",
              "      <td>0</td>\n",
              "      <td>0</td>\n",
              "      <td>0</td>\n",
              "      <td>0</td>\n",
              "      <td>0</td>\n",
              "      <td>0</td>\n",
              "      <td>0</td>\n",
              "      <td>0</td>\n",
              "      <td>0</td>\n",
              "      <td>0</td>\n",
              "      <td>0</td>\n",
              "      <td>0</td>\n",
              "      <td>...</td>\n",
              "      <td>0</td>\n",
              "      <td>0</td>\n",
              "      <td>0</td>\n",
              "      <td>0</td>\n",
              "      <td>0</td>\n",
              "      <td>0</td>\n",
              "      <td>0</td>\n",
              "      <td>0</td>\n",
              "      <td>0</td>\n",
              "      <td>0</td>\n",
              "      <td>0</td>\n",
              "      <td>0</td>\n",
              "      <td>0</td>\n",
              "      <td>0</td>\n",
              "      <td>0</td>\n",
              "      <td>0</td>\n",
              "      <td>0</td>\n",
              "      <td>0</td>\n",
              "      <td>1</td>\n",
              "      <td>0</td>\n",
              "      <td>0</td>\n",
              "      <td>1</td>\n",
              "      <td>0</td>\n",
              "      <td>0</td>\n",
              "      <td>0</td>\n",
              "      <td>0</td>\n",
              "      <td>0</td>\n",
              "      <td>1</td>\n",
              "      <td>0</td>\n",
              "      <td>0</td>\n",
              "      <td>0</td>\n",
              "      <td>0</td>\n",
              "      <td>0</td>\n",
              "      <td>1</td>\n",
              "      <td>0</td>\n",
              "      <td>0</td>\n",
              "      <td>0</td>\n",
              "      <td>0</td>\n",
              "      <td>0</td>\n",
              "      <td>1</td>\n",
              "    </tr>\n",
              "    <tr>\n",
              "      <th>...</th>\n",
              "      <td>...</td>\n",
              "      <td>...</td>\n",
              "      <td>...</td>\n",
              "      <td>...</td>\n",
              "      <td>...</td>\n",
              "      <td>...</td>\n",
              "      <td>...</td>\n",
              "      <td>...</td>\n",
              "      <td>...</td>\n",
              "      <td>...</td>\n",
              "      <td>...</td>\n",
              "      <td>...</td>\n",
              "      <td>...</td>\n",
              "      <td>...</td>\n",
              "      <td>...</td>\n",
              "      <td>...</td>\n",
              "      <td>...</td>\n",
              "      <td>...</td>\n",
              "      <td>...</td>\n",
              "      <td>...</td>\n",
              "      <td>...</td>\n",
              "      <td>...</td>\n",
              "      <td>...</td>\n",
              "      <td>...</td>\n",
              "      <td>...</td>\n",
              "      <td>...</td>\n",
              "      <td>...</td>\n",
              "      <td>...</td>\n",
              "      <td>...</td>\n",
              "      <td>...</td>\n",
              "      <td>...</td>\n",
              "      <td>...</td>\n",
              "      <td>...</td>\n",
              "      <td>...</td>\n",
              "      <td>...</td>\n",
              "      <td>...</td>\n",
              "      <td>...</td>\n",
              "      <td>...</td>\n",
              "      <td>...</td>\n",
              "      <td>...</td>\n",
              "      <td>...</td>\n",
              "      <td>...</td>\n",
              "      <td>...</td>\n",
              "      <td>...</td>\n",
              "      <td>...</td>\n",
              "      <td>...</td>\n",
              "      <td>...</td>\n",
              "      <td>...</td>\n",
              "      <td>...</td>\n",
              "      <td>...</td>\n",
              "      <td>...</td>\n",
              "      <td>...</td>\n",
              "      <td>...</td>\n",
              "      <td>...</td>\n",
              "      <td>...</td>\n",
              "      <td>...</td>\n",
              "      <td>...</td>\n",
              "      <td>...</td>\n",
              "      <td>...</td>\n",
              "      <td>...</td>\n",
              "      <td>...</td>\n",
              "      <td>...</td>\n",
              "      <td>...</td>\n",
              "      <td>...</td>\n",
              "      <td>...</td>\n",
              "      <td>...</td>\n",
              "      <td>...</td>\n",
              "      <td>...</td>\n",
              "      <td>...</td>\n",
              "      <td>...</td>\n",
              "      <td>...</td>\n",
              "      <td>...</td>\n",
              "      <td>...</td>\n",
              "      <td>...</td>\n",
              "      <td>...</td>\n",
              "      <td>...</td>\n",
              "      <td>...</td>\n",
              "      <td>...</td>\n",
              "      <td>...</td>\n",
              "      <td>...</td>\n",
              "      <td>...</td>\n",
              "    </tr>\n",
              "    <tr>\n",
              "      <th>19147</th>\n",
              "      <td>21319</td>\n",
              "      <td>0.624</td>\n",
              "      <td>1</td>\n",
              "      <td>1</td>\n",
              "      <td>1</td>\n",
              "      <td>52</td>\n",
              "      <td>1.0</td>\n",
              "      <td>0</td>\n",
              "      <td>0</td>\n",
              "      <td>0</td>\n",
              "      <td>0</td>\n",
              "      <td>0</td>\n",
              "      <td>0</td>\n",
              "      <td>0</td>\n",
              "      <td>0</td>\n",
              "      <td>0</td>\n",
              "      <td>0</td>\n",
              "      <td>0</td>\n",
              "      <td>0</td>\n",
              "      <td>0</td>\n",
              "      <td>0</td>\n",
              "      <td>0</td>\n",
              "      <td>0</td>\n",
              "      <td>0</td>\n",
              "      <td>0</td>\n",
              "      <td>0</td>\n",
              "      <td>0</td>\n",
              "      <td>0</td>\n",
              "      <td>0</td>\n",
              "      <td>0</td>\n",
              "      <td>0</td>\n",
              "      <td>0</td>\n",
              "      <td>0</td>\n",
              "      <td>0</td>\n",
              "      <td>0</td>\n",
              "      <td>0</td>\n",
              "      <td>0</td>\n",
              "      <td>0</td>\n",
              "      <td>0</td>\n",
              "      <td>0</td>\n",
              "      <td>...</td>\n",
              "      <td>0</td>\n",
              "      <td>0</td>\n",
              "      <td>0</td>\n",
              "      <td>0</td>\n",
              "      <td>0</td>\n",
              "      <td>0</td>\n",
              "      <td>0</td>\n",
              "      <td>0</td>\n",
              "      <td>0</td>\n",
              "      <td>0</td>\n",
              "      <td>0</td>\n",
              "      <td>0</td>\n",
              "      <td>0</td>\n",
              "      <td>0</td>\n",
              "      <td>0</td>\n",
              "      <td>0</td>\n",
              "      <td>0</td>\n",
              "      <td>0</td>\n",
              "      <td>1</td>\n",
              "      <td>1</td>\n",
              "      <td>0</td>\n",
              "      <td>1</td>\n",
              "      <td>0</td>\n",
              "      <td>0</td>\n",
              "      <td>0</td>\n",
              "      <td>0</td>\n",
              "      <td>0</td>\n",
              "      <td>1</td>\n",
              "      <td>0</td>\n",
              "      <td>1</td>\n",
              "      <td>0</td>\n",
              "      <td>0</td>\n",
              "      <td>0</td>\n",
              "      <td>0</td>\n",
              "      <td>0</td>\n",
              "      <td>0</td>\n",
              "      <td>0</td>\n",
              "      <td>0</td>\n",
              "      <td>0</td>\n",
              "      <td>1</td>\n",
              "    </tr>\n",
              "    <tr>\n",
              "      <th>19149</th>\n",
              "      <td>251</td>\n",
              "      <td>0.920</td>\n",
              "      <td>0</td>\n",
              "      <td>9</td>\n",
              "      <td>1</td>\n",
              "      <td>36</td>\n",
              "      <td>1.0</td>\n",
              "      <td>0</td>\n",
              "      <td>0</td>\n",
              "      <td>0</td>\n",
              "      <td>0</td>\n",
              "      <td>0</td>\n",
              "      <td>1</td>\n",
              "      <td>0</td>\n",
              "      <td>0</td>\n",
              "      <td>0</td>\n",
              "      <td>0</td>\n",
              "      <td>0</td>\n",
              "      <td>0</td>\n",
              "      <td>0</td>\n",
              "      <td>0</td>\n",
              "      <td>0</td>\n",
              "      <td>0</td>\n",
              "      <td>0</td>\n",
              "      <td>0</td>\n",
              "      <td>0</td>\n",
              "      <td>0</td>\n",
              "      <td>0</td>\n",
              "      <td>0</td>\n",
              "      <td>0</td>\n",
              "      <td>0</td>\n",
              "      <td>0</td>\n",
              "      <td>0</td>\n",
              "      <td>0</td>\n",
              "      <td>0</td>\n",
              "      <td>0</td>\n",
              "      <td>0</td>\n",
              "      <td>0</td>\n",
              "      <td>0</td>\n",
              "      <td>0</td>\n",
              "      <td>...</td>\n",
              "      <td>0</td>\n",
              "      <td>0</td>\n",
              "      <td>0</td>\n",
              "      <td>0</td>\n",
              "      <td>0</td>\n",
              "      <td>0</td>\n",
              "      <td>0</td>\n",
              "      <td>0</td>\n",
              "      <td>0</td>\n",
              "      <td>0</td>\n",
              "      <td>0</td>\n",
              "      <td>0</td>\n",
              "      <td>0</td>\n",
              "      <td>0</td>\n",
              "      <td>0</td>\n",
              "      <td>0</td>\n",
              "      <td>0</td>\n",
              "      <td>0</td>\n",
              "      <td>1</td>\n",
              "      <td>0</td>\n",
              "      <td>0</td>\n",
              "      <td>0</td>\n",
              "      <td>1</td>\n",
              "      <td>0</td>\n",
              "      <td>0</td>\n",
              "      <td>0</td>\n",
              "      <td>0</td>\n",
              "      <td>1</td>\n",
              "      <td>0</td>\n",
              "      <td>0</td>\n",
              "      <td>0</td>\n",
              "      <td>0</td>\n",
              "      <td>1</td>\n",
              "      <td>0</td>\n",
              "      <td>0</td>\n",
              "      <td>0</td>\n",
              "      <td>0</td>\n",
              "      <td>0</td>\n",
              "      <td>0</td>\n",
              "      <td>1</td>\n",
              "    </tr>\n",
              "    <tr>\n",
              "      <th>19150</th>\n",
              "      <td>32313</td>\n",
              "      <td>0.920</td>\n",
              "      <td>0</td>\n",
              "      <td>10</td>\n",
              "      <td>3</td>\n",
              "      <td>23</td>\n",
              "      <td>0.0</td>\n",
              "      <td>0</td>\n",
              "      <td>0</td>\n",
              "      <td>0</td>\n",
              "      <td>0</td>\n",
              "      <td>0</td>\n",
              "      <td>0</td>\n",
              "      <td>0</td>\n",
              "      <td>0</td>\n",
              "      <td>0</td>\n",
              "      <td>0</td>\n",
              "      <td>0</td>\n",
              "      <td>0</td>\n",
              "      <td>0</td>\n",
              "      <td>0</td>\n",
              "      <td>0</td>\n",
              "      <td>0</td>\n",
              "      <td>0</td>\n",
              "      <td>0</td>\n",
              "      <td>0</td>\n",
              "      <td>0</td>\n",
              "      <td>0</td>\n",
              "      <td>0</td>\n",
              "      <td>0</td>\n",
              "      <td>0</td>\n",
              "      <td>0</td>\n",
              "      <td>0</td>\n",
              "      <td>0</td>\n",
              "      <td>0</td>\n",
              "      <td>0</td>\n",
              "      <td>0</td>\n",
              "      <td>0</td>\n",
              "      <td>0</td>\n",
              "      <td>0</td>\n",
              "      <td>...</td>\n",
              "      <td>0</td>\n",
              "      <td>0</td>\n",
              "      <td>0</td>\n",
              "      <td>0</td>\n",
              "      <td>0</td>\n",
              "      <td>0</td>\n",
              "      <td>0</td>\n",
              "      <td>0</td>\n",
              "      <td>0</td>\n",
              "      <td>0</td>\n",
              "      <td>0</td>\n",
              "      <td>0</td>\n",
              "      <td>0</td>\n",
              "      <td>0</td>\n",
              "      <td>0</td>\n",
              "      <td>0</td>\n",
              "      <td>0</td>\n",
              "      <td>1</td>\n",
              "      <td>0</td>\n",
              "      <td>0</td>\n",
              "      <td>0</td>\n",
              "      <td>1</td>\n",
              "      <td>0</td>\n",
              "      <td>0</td>\n",
              "      <td>0</td>\n",
              "      <td>0</td>\n",
              "      <td>0</td>\n",
              "      <td>1</td>\n",
              "      <td>0</td>\n",
              "      <td>1</td>\n",
              "      <td>0</td>\n",
              "      <td>0</td>\n",
              "      <td>0</td>\n",
              "      <td>0</td>\n",
              "      <td>0</td>\n",
              "      <td>0</td>\n",
              "      <td>0</td>\n",
              "      <td>0</td>\n",
              "      <td>1</td>\n",
              "      <td>0</td>\n",
              "    </tr>\n",
              "    <tr>\n",
              "      <th>19152</th>\n",
              "      <td>29754</td>\n",
              "      <td>0.920</td>\n",
              "      <td>0</td>\n",
              "      <td>7</td>\n",
              "      <td>1</td>\n",
              "      <td>25</td>\n",
              "      <td>0.0</td>\n",
              "      <td>0</td>\n",
              "      <td>0</td>\n",
              "      <td>0</td>\n",
              "      <td>0</td>\n",
              "      <td>0</td>\n",
              "      <td>1</td>\n",
              "      <td>0</td>\n",
              "      <td>0</td>\n",
              "      <td>0</td>\n",
              "      <td>0</td>\n",
              "      <td>0</td>\n",
              "      <td>0</td>\n",
              "      <td>0</td>\n",
              "      <td>0</td>\n",
              "      <td>0</td>\n",
              "      <td>0</td>\n",
              "      <td>0</td>\n",
              "      <td>0</td>\n",
              "      <td>0</td>\n",
              "      <td>0</td>\n",
              "      <td>0</td>\n",
              "      <td>0</td>\n",
              "      <td>0</td>\n",
              "      <td>0</td>\n",
              "      <td>0</td>\n",
              "      <td>0</td>\n",
              "      <td>0</td>\n",
              "      <td>0</td>\n",
              "      <td>0</td>\n",
              "      <td>0</td>\n",
              "      <td>0</td>\n",
              "      <td>0</td>\n",
              "      <td>0</td>\n",
              "      <td>...</td>\n",
              "      <td>0</td>\n",
              "      <td>0</td>\n",
              "      <td>0</td>\n",
              "      <td>0</td>\n",
              "      <td>0</td>\n",
              "      <td>0</td>\n",
              "      <td>0</td>\n",
              "      <td>0</td>\n",
              "      <td>0</td>\n",
              "      <td>0</td>\n",
              "      <td>0</td>\n",
              "      <td>0</td>\n",
              "      <td>0</td>\n",
              "      <td>0</td>\n",
              "      <td>0</td>\n",
              "      <td>0</td>\n",
              "      <td>0</td>\n",
              "      <td>1</td>\n",
              "      <td>0</td>\n",
              "      <td>0</td>\n",
              "      <td>0</td>\n",
              "      <td>1</td>\n",
              "      <td>0</td>\n",
              "      <td>0</td>\n",
              "      <td>0</td>\n",
              "      <td>1</td>\n",
              "      <td>0</td>\n",
              "      <td>0</td>\n",
              "      <td>1</td>\n",
              "      <td>0</td>\n",
              "      <td>0</td>\n",
              "      <td>0</td>\n",
              "      <td>0</td>\n",
              "      <td>0</td>\n",
              "      <td>0</td>\n",
              "      <td>0</td>\n",
              "      <td>1</td>\n",
              "      <td>0</td>\n",
              "      <td>0</td>\n",
              "      <td>0</td>\n",
              "    </tr>\n",
              "    <tr>\n",
              "      <th>19155</th>\n",
              "      <td>24576</td>\n",
              "      <td>0.920</td>\n",
              "      <td>0</td>\n",
              "      <td>21</td>\n",
              "      <td>4</td>\n",
              "      <td>44</td>\n",
              "      <td>0.0</td>\n",
              "      <td>0</td>\n",
              "      <td>0</td>\n",
              "      <td>0</td>\n",
              "      <td>0</td>\n",
              "      <td>0</td>\n",
              "      <td>1</td>\n",
              "      <td>0</td>\n",
              "      <td>0</td>\n",
              "      <td>0</td>\n",
              "      <td>0</td>\n",
              "      <td>0</td>\n",
              "      <td>0</td>\n",
              "      <td>0</td>\n",
              "      <td>0</td>\n",
              "      <td>0</td>\n",
              "      <td>0</td>\n",
              "      <td>0</td>\n",
              "      <td>0</td>\n",
              "      <td>0</td>\n",
              "      <td>0</td>\n",
              "      <td>0</td>\n",
              "      <td>0</td>\n",
              "      <td>0</td>\n",
              "      <td>0</td>\n",
              "      <td>0</td>\n",
              "      <td>0</td>\n",
              "      <td>0</td>\n",
              "      <td>0</td>\n",
              "      <td>0</td>\n",
              "      <td>0</td>\n",
              "      <td>0</td>\n",
              "      <td>0</td>\n",
              "      <td>0</td>\n",
              "      <td>...</td>\n",
              "      <td>0</td>\n",
              "      <td>0</td>\n",
              "      <td>0</td>\n",
              "      <td>0</td>\n",
              "      <td>0</td>\n",
              "      <td>0</td>\n",
              "      <td>0</td>\n",
              "      <td>0</td>\n",
              "      <td>0</td>\n",
              "      <td>0</td>\n",
              "      <td>0</td>\n",
              "      <td>0</td>\n",
              "      <td>0</td>\n",
              "      <td>0</td>\n",
              "      <td>0</td>\n",
              "      <td>0</td>\n",
              "      <td>0</td>\n",
              "      <td>0</td>\n",
              "      <td>1</td>\n",
              "      <td>0</td>\n",
              "      <td>0</td>\n",
              "      <td>1</td>\n",
              "      <td>0</td>\n",
              "      <td>0</td>\n",
              "      <td>0</td>\n",
              "      <td>0</td>\n",
              "      <td>0</td>\n",
              "      <td>1</td>\n",
              "      <td>0</td>\n",
              "      <td>0</td>\n",
              "      <td>0</td>\n",
              "      <td>0</td>\n",
              "      <td>1</td>\n",
              "      <td>0</td>\n",
              "      <td>0</td>\n",
              "      <td>0</td>\n",
              "      <td>0</td>\n",
              "      <td>0</td>\n",
              "      <td>0</td>\n",
              "      <td>1</td>\n",
              "    </tr>\n",
              "  </tbody>\n",
              "</table>\n",
              "<p>8955 rows × 145 columns</p>\n",
              "</div>"
            ],
            "text/plain": [
              "       enrollee_id  ...  companyType_Pvt Ltd\n",
              "1            29725  ...                    1\n",
              "4              666  ...                    0\n",
              "7              402  ...                    1\n",
              "8            27107  ...                    1\n",
              "11           23853  ...                    1\n",
              "...            ...  ...                  ...\n",
              "19147        21319  ...                    1\n",
              "19149          251  ...                    1\n",
              "19150        32313  ...                    0\n",
              "19152        29754  ...                    0\n",
              "19155        24576  ...                    1\n",
              "\n",
              "[8955 rows x 145 columns]"
            ]
          },
          "metadata": {
            "tags": []
          },
          "execution_count": 52
        },
        {
          "output_type": "stream",
          "text": [
            "time: 186 ms (started: 2021-03-26 13:48:47 +00:00)\n"
          ],
          "name": "stdout"
        }
      ]
    },
    {
      "cell_type": "markdown",
      "metadata": {
        "id": "fUaV98VMTFSJ"
      },
      "source": [
        "# moving the target column to the last"
      ]
    },
    {
      "cell_type": "code",
      "metadata": {
        "colab": {
          "base_uri": "https://localhost:8080/"
        },
        "id": "7lNkYd4sTHmz",
        "outputId": "de51948c-a680-4d29-841c-2e77bc64b7c0"
      },
      "source": [
        "cols = list(dataset.columns.values)\n",
        "cols.pop(cols.index('target'))\n",
        "dataset = dataset[cols+['target']]"
      ],
      "execution_count": 53,
      "outputs": [
        {
          "output_type": "stream",
          "text": [
            "time: 13.8 ms (started: 2021-03-26 13:48:47 +00:00)\n"
          ],
          "name": "stdout"
        }
      ]
    },
    {
      "cell_type": "markdown",
      "metadata": {
        "id": "EBXT6XWlTLCn"
      },
      "source": [
        "# seperating the dependent variable from the indenpendent variables"
      ]
    },
    {
      "cell_type": "code",
      "metadata": {
        "colab": {
          "base_uri": "https://localhost:8080/"
        },
        "id": "se52QunOTP7G",
        "outputId": "7e7fb5d1-9d36-4de5-ef0c-a59f295ed02a"
      },
      "source": [
        "X = dataset.iloc[:, 1:-1].values\n",
        "Y = dataset.iloc[:, -1].values"
      ],
      "execution_count": 54,
      "outputs": [
        {
          "output_type": "stream",
          "text": [
            "time: 10.1 ms (started: 2021-03-26 13:48:47 +00:00)\n"
          ],
          "name": "stdout"
        }
      ]
    },
    {
      "cell_type": "code",
      "metadata": {
        "colab": {
          "base_uri": "https://localhost:8080/"
        },
        "id": "_sVRKmM0TbE9",
        "outputId": "34456fb7-2f84-4af2-d61d-d8d13b609af2"
      },
      "source": [
        "X"
      ],
      "execution_count": 55,
      "outputs": [
        {
          "output_type": "execute_result",
          "data": {
            "text/plain": [
              "array([[ 0.776,  1.   , 15.   , ...,  0.   ,  0.   ,  1.   ],\n",
              "       [ 0.767,  0.   , 21.   , ...,  0.   ,  0.   ,  0.   ],\n",
              "       [ 0.762,  0.   , 13.   , ...,  0.   ,  0.   ,  1.   ],\n",
              "       ...,\n",
              "       [ 0.92 ,  0.   , 10.   , ...,  0.   ,  1.   ,  0.   ],\n",
              "       [ 0.92 ,  0.   ,  7.   , ...,  0.   ,  0.   ,  0.   ],\n",
              "       [ 0.92 ,  0.   , 21.   , ...,  0.   ,  0.   ,  1.   ]])"
            ]
          },
          "metadata": {
            "tags": []
          },
          "execution_count": 55
        },
        {
          "output_type": "stream",
          "text": [
            "time: 6.66 ms (started: 2021-03-26 13:48:47 +00:00)\n"
          ],
          "name": "stdout"
        }
      ]
    },
    {
      "cell_type": "code",
      "metadata": {
        "colab": {
          "base_uri": "https://localhost:8080/"
        },
        "id": "A9uCZjnGTfCn",
        "outputId": "2314ebb8-b59b-45be-df27-741f28377189"
      },
      "source": [
        "Y"
      ],
      "execution_count": 56,
      "outputs": [
        {
          "output_type": "execute_result",
          "data": {
            "text/plain": [
              "array([0., 0., 1., ..., 0., 0., 0.])"
            ]
          },
          "metadata": {
            "tags": []
          },
          "execution_count": 56
        },
        {
          "output_type": "stream",
          "text": [
            "time: 5.75 ms (started: 2021-03-26 13:48:47 +00:00)\n"
          ],
          "name": "stdout"
        }
      ]
    },
    {
      "cell_type": "markdown",
      "metadata": {
        "id": "KO2Y5LDLTX_x"
      },
      "source": [
        "# Splitting the dataset into Training set and Test set"
      ]
    },
    {
      "cell_type": "code",
      "metadata": {
        "colab": {
          "base_uri": "https://localhost:8080/"
        },
        "id": "cpATgNQpTnBg",
        "outputId": "cdae0e8e-9e52-4689-cc21-736ea0844715"
      },
      "source": [
        "from  sklearn.model_selection import train_test_split\n",
        "X_train, X_test, Y_train, Y_test = train_test_split(X, Y, test_size = 0.2, random_state = 0)"
      ],
      "execution_count": 57,
      "outputs": [
        {
          "output_type": "stream",
          "text": [
            "time: 28 ms (started: 2021-03-26 13:48:47 +00:00)\n"
          ],
          "name": "stdout"
        }
      ]
    },
    {
      "cell_type": "markdown",
      "metadata": {
        "id": "bFJGA82GTvTS"
      },
      "source": [
        "# feature Scaling"
      ]
    },
    {
      "cell_type": "code",
      "metadata": {
        "colab": {
          "base_uri": "https://localhost:8080/"
        },
        "id": "fmkmWhwjT6nP",
        "outputId": "fb9b48e6-e146-4739-ae98-97b2da84aa34"
      },
      "source": [
        "from sklearn.preprocessing import StandardScaler\n",
        "sc = StandardScaler()\n",
        "X_train = sc.fit_transform(X_train)\n",
        "X_test = sc.transform(X_test)\n",
        "print(X_train)\n",
        "print(X_test)"
      ],
      "execution_count": 58,
      "outputs": [
        {
          "output_type": "stream",
          "text": [
            "[[-1.90657105 -0.3797712   1.13200583 ... -0.20686894 -0.26437185\n",
            "   0.57412662]\n",
            " [ 0.64553049 -0.3797712   1.43843079 ...  4.83397838 -0.26437185\n",
            "  -1.74177604]\n",
            " [-1.90657105 -0.3797712  -1.31939385 ... -0.20686894 -0.26437185\n",
            "   0.57412662]\n",
            " ...\n",
            " [ 0.80934782 -0.3797712   1.43843079 ... -0.20686894 -0.26437185\n",
            "   0.57412662]\n",
            " [-2.54459643 -0.3797712   0.67236839 ... -0.20686894 -0.26437185\n",
            "   0.57412662]\n",
            " [ 0.64553049 -0.3797712   0.67236839 ... -0.20686894 -0.26437185\n",
            "  -1.74177604]]\n",
            "[[-1.90657105 -0.3797712  -0.70654393 ... -0.20686894 -0.26437185\n",
            "   0.57412662]\n",
            " [ 0.55931084 -0.3797712   1.43843079 ... -0.20686894 -0.26437185\n",
            "  -1.74177604]\n",
            " [ 0.64553049 -0.3797712   1.43843079 ... -0.20686894 -0.26437185\n",
            "  -1.74177604]\n",
            " ...\n",
            " [ 0.55931084 -0.3797712  -1.62581881 ... -0.20686894 -0.26437185\n",
            "   0.57412662]\n",
            " [ 0.68001835 -0.3797712   0.51915591 ... -0.20686894 -0.26437185\n",
            "   0.57412662]\n",
            " [ 0.55931084 -0.3797712   1.43843079 ... -0.20686894 -0.26437185\n",
            "   0.57412662]]\n",
            "time: 33.3 ms (started: 2021-03-26 13:48:47 +00:00)\n"
          ],
          "name": "stdout"
        }
      ]
    },
    {
      "cell_type": "markdown",
      "metadata": {
        "id": "TRpkDFeipLCC"
      },
      "source": [
        "# KNN"
      ]
    },
    {
      "cell_type": "markdown",
      "metadata": {
        "id": "8re3hBRipSjt"
      },
      "source": [
        "# Training the logistic Regression model on the training set"
      ]
    },
    {
      "cell_type": "code",
      "metadata": {
        "colab": {
          "base_uri": "https://localhost:8080/"
        },
        "id": "oZorOa6VpNIF",
        "outputId": "03e32633-81ef-4a36-bad5-df919cd97e6c"
      },
      "source": [
        "from sklearn.neighbors import KNeighborsClassifier\n",
        "classifier = KNeighborsClassifier(n_neighbors=5, metric=\"minkowski\", p = 2)\n",
        "classifier.fit(X_train,Y_train)"
      ],
      "execution_count": 59,
      "outputs": [
        {
          "output_type": "execute_result",
          "data": {
            "text/plain": [
              "KNeighborsClassifier(algorithm='auto', leaf_size=30, metric='minkowski',\n",
              "                     metric_params=None, n_jobs=None, n_neighbors=5, p=2,\n",
              "                     weights='uniform')"
            ]
          },
          "metadata": {
            "tags": []
          },
          "execution_count": 59
        },
        {
          "output_type": "stream",
          "text": [
            "time: 195 ms (started: 2021-03-26 13:48:47 +00:00)\n"
          ],
          "name": "stdout"
        }
      ]
    },
    {
      "cell_type": "markdown",
      "metadata": {
        "id": "vhDLG_yXpXWO"
      },
      "source": [
        "# predicting a new result"
      ]
    },
    {
      "cell_type": "code",
      "metadata": {
        "colab": {
          "base_uri": "https://localhost:8080/"
        },
        "id": "bgDwmIrppd0L",
        "outputId": "1f75087e-35af-4fc5-c45d-d009b46ab9d0"
      },
      "source": [
        "y_pred = classifier.predict(X_test)\n",
        "print(np.concatenate((y_pred.reshape(len(y_pred),1),Y_test.reshape(len(Y_test),1)),1))"
      ],
      "execution_count": 60,
      "outputs": [
        {
          "output_type": "stream",
          "text": [
            "[[0. 0.]\n",
            " [0. 0.]\n",
            " [0. 0.]\n",
            " ...\n",
            " [0. 0.]\n",
            " [0. 1.]\n",
            " [0. 0.]]\n",
            "time: 2.67 s (started: 2021-03-26 13:48:47 +00:00)\n"
          ],
          "name": "stdout"
        }
      ]
    },
    {
      "cell_type": "markdown",
      "metadata": {
        "id": "S9yWC0pXp6Cv"
      },
      "source": [
        "# Making confusion"
      ]
    },
    {
      "cell_type": "code",
      "metadata": {
        "colab": {
          "base_uri": "https://localhost:8080/"
        },
        "id": "saVTI8f1q4tP",
        "outputId": "74c4fcfe-16a3-4931-87af-d83c147eb5bb"
      },
      "source": [
        "from sklearn.metrics import confusion_matrix, accuracy_score\n",
        "cm = confusion_matrix(Y_test,y_pred)\n",
        "print(cm)\n",
        "accuracy = accuracy_score(Y_test,y_pred)\n",
        "print(accuracy)"
      ],
      "execution_count": 61,
      "outputs": [
        {
          "output_type": "stream",
          "text": [
            "[[1394   83]\n",
            " [ 212  102]]\n",
            "0.835287548855388\n",
            "time: 16.1 ms (started: 2021-03-26 13:48:50 +00:00)\n"
          ],
          "name": "stdout"
        }
      ]
    },
    {
      "cell_type": "markdown",
      "metadata": {
        "id": "Ajkwdid1Z7kZ"
      },
      "source": [
        "# SVM"
      ]
    },
    {
      "cell_type": "markdown",
      "metadata": {
        "id": "xg-cls7HWS7h"
      },
      "source": [
        "#Training the Regression model on the training set"
      ]
    },
    {
      "cell_type": "code",
      "metadata": {
        "colab": {
          "base_uri": "https://localhost:8080/"
        },
        "id": "KZfXgwArWAei",
        "outputId": "4f193068-9825-4bea-ec86-1a4e9c697147"
      },
      "source": [
        "from sklearn.svm import SVC\n",
        "classifier = SVC()\n",
        "classifier.fit(X_train,Y_train)"
      ],
      "execution_count": 62,
      "outputs": [
        {
          "output_type": "execute_result",
          "data": {
            "text/plain": [
              "SVC(C=1.0, break_ties=False, cache_size=200, class_weight=None, coef0=0.0,\n",
              "    decision_function_shape='ovr', degree=3, gamma='scale', kernel='rbf',\n",
              "    max_iter=-1, probability=False, random_state=None, shrinking=True,\n",
              "    tol=0.001, verbose=False)"
            ]
          },
          "metadata": {
            "tags": []
          },
          "execution_count": 62
        },
        {
          "output_type": "stream",
          "text": [
            "time: 6.69 s (started: 2021-03-26 13:48:50 +00:00)\n"
          ],
          "name": "stdout"
        }
      ]
    },
    {
      "cell_type": "markdown",
      "metadata": {
        "id": "XT28c4ZGYlTV"
      },
      "source": [
        "# predicting the test set results"
      ]
    },
    {
      "cell_type": "code",
      "metadata": {
        "colab": {
          "base_uri": "https://localhost:8080/"
        },
        "id": "x9l1ylc8YrUJ",
        "outputId": "a7531015-3ea8-4cde-c405-a7c48ced884d"
      },
      "source": [
        "y_pred = classifier.predict(X_test)"
      ],
      "execution_count": 63,
      "outputs": [
        {
          "output_type": "stream",
          "text": [
            "time: 1.14 s (started: 2021-03-26 13:48:57 +00:00)\n"
          ],
          "name": "stdout"
        }
      ]
    },
    {
      "cell_type": "markdown",
      "metadata": {
        "id": "gNEy1BD-Ywab"
      },
      "source": [
        "# Making the confusion matrix"
      ]
    },
    {
      "cell_type": "code",
      "metadata": {
        "colab": {
          "base_uri": "https://localhost:8080/"
        },
        "id": "oy3NUO8tY33b",
        "outputId": "bf6d92e2-b11e-4e30-95d0-7c2e0d6595ba"
      },
      "source": [
        "from sklearn.metrics import confusion_matrix, accuracy_score\n",
        "cm = confusion_matrix(Y_test,y_pred)\n",
        "print(\"\\t\\n########SVM Accuracy########\\n\")\n",
        "print(cm)\n",
        "accuracy = accuracy_score(Y_test,y_pred)\n",
        "print(accuracy)"
      ],
      "execution_count": 64,
      "outputs": [
        {
          "output_type": "stream",
          "text": [
            "\t\n",
            "########SVM Accuracy########\n",
            "\n",
            "[[1371  106]\n",
            " [ 157  157]]\n",
            "0.8531546621998883\n",
            "time: 12.1 ms (started: 2021-03-26 13:48:58 +00:00)\n"
          ],
          "name": "stdout"
        }
      ]
    },
    {
      "cell_type": "markdown",
      "metadata": {
        "id": "V0Oxug9eZKQJ"
      },
      "source": [
        "# SVM Kernel "
      ]
    },
    {
      "cell_type": "markdown",
      "metadata": {
        "id": "Vxw5oju_amB7"
      },
      "source": [
        "# Training the Classification model on the training set"
      ]
    },
    {
      "cell_type": "code",
      "metadata": {
        "colab": {
          "base_uri": "https://localhost:8080/"
        },
        "id": "Z9TlZ5t7aYC2",
        "outputId": "025f0c47-00f7-4d99-f887-668d69520a4d"
      },
      "source": [
        "from sklearn.svm import SVC\n",
        "classifier = SVC(kernel='rbf', )\n",
        "classifier.fit(X_train,Y_train)"
      ],
      "execution_count": 65,
      "outputs": [
        {
          "output_type": "execute_result",
          "data": {
            "text/plain": [
              "SVC(C=1.0, break_ties=False, cache_size=200, class_weight=None, coef0=0.0,\n",
              "    decision_function_shape='ovr', degree=3, gamma='scale', kernel='rbf',\n",
              "    max_iter=-1, probability=False, random_state=None, shrinking=True,\n",
              "    tol=0.001, verbose=False)"
            ]
          },
          "metadata": {
            "tags": []
          },
          "execution_count": 65
        },
        {
          "output_type": "stream",
          "text": [
            "time: 6.48 s (started: 2021-03-26 13:48:58 +00:00)\n"
          ],
          "name": "stdout"
        }
      ]
    },
    {
      "cell_type": "markdown",
      "metadata": {
        "id": "_UbNSA2katG2"
      },
      "source": [
        "# predicting the test set results"
      ]
    },
    {
      "cell_type": "code",
      "metadata": {
        "colab": {
          "base_uri": "https://localhost:8080/"
        },
        "id": "APDBb3-1a0Of",
        "outputId": "3dcbfc22-932f-49a8-bf94-9d0ca0a0fe4b"
      },
      "source": [
        "y_pred = classifier.predict(X_test)"
      ],
      "execution_count": 66,
      "outputs": [
        {
          "output_type": "stream",
          "text": [
            "time: 1.14 s (started: 2021-03-26 13:49:04 +00:00)\n"
          ],
          "name": "stdout"
        }
      ]
    },
    {
      "cell_type": "markdown",
      "metadata": {
        "id": "xsZeIDmmbbJh"
      },
      "source": [
        "# Making the confusion matrix"
      ]
    },
    {
      "cell_type": "code",
      "metadata": {
        "colab": {
          "base_uri": "https://localhost:8080/"
        },
        "id": "3jxECZG9baTM",
        "outputId": "0b5c58ea-c014-4e3a-ea0e-3f680b6d59cd"
      },
      "source": [
        "from sklearn.metrics import confusion_matrix, accuracy_score\n",
        "cm = confusion_matrix(Y_test,y_pred)\n",
        "print(\"\\t\\n########SVM Kernel Accuracy ########\\n\")\n",
        "print(cm)\n",
        "accuracy = accuracy_score(Y_test,y_pred)\n",
        "print(accuracy)"
      ],
      "execution_count": 67,
      "outputs": [
        {
          "output_type": "stream",
          "text": [
            "\t\n",
            "########SVM Kernel Accuracy ########\n",
            "\n",
            "[[1371  106]\n",
            " [ 157  157]]\n",
            "0.8531546621998883\n",
            "time: 11.1 ms (started: 2021-03-26 13:49:06 +00:00)\n"
          ],
          "name": "stdout"
        }
      ]
    },
    {
      "cell_type": "markdown",
      "metadata": {
        "id": "_Pppxt-Jb29A"
      },
      "source": [
        "# NaiveBayer"
      ]
    },
    {
      "cell_type": "markdown",
      "metadata": {
        "id": "Ro1kAFH9b7Yu"
      },
      "source": [
        "# Training the Classification model on the training set"
      ]
    },
    {
      "cell_type": "code",
      "metadata": {
        "colab": {
          "base_uri": "https://localhost:8080/"
        },
        "id": "ALv5wY8fcEYo",
        "outputId": "5e220143-058b-4c21-fa91-7050557b679b"
      },
      "source": [
        "from sklearn.naive_bayes import GaussianNB\n",
        "classifier = GaussianNB()\n",
        "classifier.fit(X_train,Y_train)"
      ],
      "execution_count": 68,
      "outputs": [
        {
          "output_type": "execute_result",
          "data": {
            "text/plain": [
              "GaussianNB(priors=None, var_smoothing=1e-09)"
            ]
          },
          "metadata": {
            "tags": []
          },
          "execution_count": 68
        },
        {
          "output_type": "stream",
          "text": [
            "time: 25.2 ms (started: 2021-03-26 13:49:06 +00:00)\n"
          ],
          "name": "stdout"
        }
      ]
    },
    {
      "cell_type": "markdown",
      "metadata": {
        "id": "ouyZocoicH08"
      },
      "source": [
        "# predicting the test set results"
      ]
    },
    {
      "cell_type": "code",
      "metadata": {
        "colab": {
          "base_uri": "https://localhost:8080/"
        },
        "id": "kKKNhGl-cK0G",
        "outputId": "6e3bcb43-4eae-4f24-81a8-be8fbec5bdc1"
      },
      "source": [
        "y_pred = classifier.predict(X_test)"
      ],
      "execution_count": 69,
      "outputs": [
        {
          "output_type": "stream",
          "text": [
            "time: 6.04 ms (started: 2021-03-26 13:49:06 +00:00)\n"
          ],
          "name": "stdout"
        }
      ]
    },
    {
      "cell_type": "markdown",
      "metadata": {
        "id": "JXSvcseGcQG2"
      },
      "source": [
        "# Making the confusion matix"
      ]
    },
    {
      "cell_type": "code",
      "metadata": {
        "colab": {
          "base_uri": "https://localhost:8080/"
        },
        "id": "S4xmMNHGcUWH",
        "outputId": "7d63ba91-4b7d-479b-a640-9290cd9f78f7"
      },
      "source": [
        "from sklearn.metrics import confusion_matrix, accuracy_score\n",
        "cm = confusion_matrix(Y_test,y_pred)\n",
        "print(\"\\t\\n######## NaiveBayer Accuracy ########\\n\")\n",
        "print(cm)\n",
        "accuracy = accuracy_score(Y_test,y_pred)\n",
        "print(accuracy)"
      ],
      "execution_count": 70,
      "outputs": [
        {
          "output_type": "stream",
          "text": [
            "\t\n",
            "######## NaiveBayer Accuracy ########\n",
            "\n",
            "[[  95 1382]\n",
            " [  15  299]]\n",
            "0.2199888330541597\n",
            "time: 11.5 ms (started: 2021-03-26 13:49:06 +00:00)\n"
          ],
          "name": "stdout"
        }
      ]
    },
    {
      "cell_type": "markdown",
      "metadata": {
        "id": "UmHRe3u3dNQ3"
      },
      "source": [
        "# Decision Tree \n"
      ]
    },
    {
      "cell_type": "markdown",
      "metadata": {
        "id": "X9noIp-WeFcj"
      },
      "source": [
        "# Training the Classification model on the training set"
      ]
    },
    {
      "cell_type": "code",
      "metadata": {
        "colab": {
          "base_uri": "https://localhost:8080/"
        },
        "id": "9OcKXK4EeL1o",
        "outputId": "c3100776-78aa-4233-c876-ea65bba0d723"
      },
      "source": [
        "from sklearn.tree import DecisionTreeClassifier\n",
        "classifier = DecisionTreeClassifier(criterion= 'entropy', random_state=0)\n",
        "classifier.fit(X_train, Y_train)"
      ],
      "execution_count": 71,
      "outputs": [
        {
          "output_type": "execute_result",
          "data": {
            "text/plain": [
              "DecisionTreeClassifier(ccp_alpha=0.0, class_weight=None, criterion='entropy',\n",
              "                       max_depth=None, max_features=None, max_leaf_nodes=None,\n",
              "                       min_impurity_decrease=0.0, min_impurity_split=None,\n",
              "                       min_samples_leaf=1, min_samples_split=2,\n",
              "                       min_weight_fraction_leaf=0.0, presort='deprecated',\n",
              "                       random_state=0, splitter='best')"
            ]
          },
          "metadata": {
            "tags": []
          },
          "execution_count": 71
        },
        {
          "output_type": "stream",
          "text": [
            "time: 162 ms (started: 2021-03-26 13:49:06 +00:00)\n"
          ],
          "name": "stdout"
        }
      ]
    },
    {
      "cell_type": "markdown",
      "metadata": {
        "id": "Qpa83l6qeY8G"
      },
      "source": [
        "# predicting the test set results"
      ]
    },
    {
      "cell_type": "code",
      "metadata": {
        "colab": {
          "base_uri": "https://localhost:8080/"
        },
        "id": "7-YBymQBeddB",
        "outputId": "966ebcbf-dc2d-4304-8b7e-8975a3ef0729"
      },
      "source": [
        "y_pred = classifier.predict(X_test)"
      ],
      "execution_count": 72,
      "outputs": [
        {
          "output_type": "stream",
          "text": [
            "time: 2.53 ms (started: 2021-03-26 13:49:06 +00:00)\n"
          ],
          "name": "stdout"
        }
      ]
    },
    {
      "cell_type": "markdown",
      "metadata": {
        "id": "yvDMLBEVeibR"
      },
      "source": [
        "# Making the confusion matix"
      ]
    },
    {
      "cell_type": "code",
      "metadata": {
        "colab": {
          "base_uri": "https://localhost:8080/"
        },
        "id": "dGkmwVyjeodC",
        "outputId": "9247ce7d-34a3-4c92-daad-233749204e78"
      },
      "source": [
        "from sklearn.metrics import confusion_matrix, accuracy_score\n",
        "cm = confusion_matrix(Y_test,y_pred)\n",
        "print(\"\\t\\n######## Decision Tree Accuracy ########\\n\")\n",
        "print(cm)\n",
        "accuracy = accuracy_score(Y_test,y_pred)\n",
        "print(accuracy)"
      ],
      "execution_count": 73,
      "outputs": [
        {
          "output_type": "stream",
          "text": [
            "\t\n",
            "######## Decision Tree Accuracy ########\n",
            "\n",
            "[[1301  176]\n",
            " [ 213  101]]\n",
            "0.7828029034059185\n",
            "time: 13.2 ms (started: 2021-03-26 13:49:06 +00:00)\n"
          ],
          "name": "stdout"
        }
      ]
    },
    {
      "cell_type": "markdown",
      "metadata": {
        "id": "PoDk9etCfBxY"
      },
      "source": [
        "# Random forest"
      ]
    },
    {
      "cell_type": "markdown",
      "metadata": {
        "id": "mkGmEbM6fQi5"
      },
      "source": [
        "# Training the Classification model on the training set"
      ]
    },
    {
      "cell_type": "code",
      "metadata": {
        "colab": {
          "base_uri": "https://localhost:8080/"
        },
        "id": "oCxt6d0_fMh2",
        "outputId": "9d686662-f8ee-4a06-f39d-cb111cd4b033"
      },
      "source": [
        "from sklearn.ensemble import RandomForestClassifier\n",
        "classifier = RandomForestClassifier(n_estimators= 200, criterion='entropy', random_state= 0)\n",
        "classifier.fit(X_train, Y_train)"
      ],
      "execution_count": 74,
      "outputs": [
        {
          "output_type": "execute_result",
          "data": {
            "text/plain": [
              "RandomForestClassifier(bootstrap=True, ccp_alpha=0.0, class_weight=None,\n",
              "                       criterion='entropy', max_depth=None, max_features='auto',\n",
              "                       max_leaf_nodes=None, max_samples=None,\n",
              "                       min_impurity_decrease=0.0, min_impurity_split=None,\n",
              "                       min_samples_leaf=1, min_samples_split=2,\n",
              "                       min_weight_fraction_leaf=0.0, n_estimators=200,\n",
              "                       n_jobs=None, oob_score=False, random_state=0, verbose=0,\n",
              "                       warm_start=False)"
            ]
          },
          "metadata": {
            "tags": []
          },
          "execution_count": 74
        },
        {
          "output_type": "stream",
          "text": [
            "time: 3.09 s (started: 2021-03-26 13:49:06 +00:00)\n"
          ],
          "name": "stdout"
        }
      ]
    },
    {
      "cell_type": "markdown",
      "metadata": {
        "id": "9YFHeUZvf0LB"
      },
      "source": [
        "# predicting the test set results"
      ]
    },
    {
      "cell_type": "code",
      "metadata": {
        "colab": {
          "base_uri": "https://localhost:8080/"
        },
        "id": "s2ttwEfWf4zM",
        "outputId": "84a29596-313f-456f-92c7-5b3980a0076b"
      },
      "source": [
        "y_pred = classifier.predict(X_test)"
      ],
      "execution_count": 75,
      "outputs": [
        {
          "output_type": "stream",
          "text": [
            "time: 133 ms (started: 2021-03-26 13:49:09 +00:00)\n"
          ],
          "name": "stdout"
        }
      ]
    },
    {
      "cell_type": "markdown",
      "metadata": {
        "id": "8O8pKVzGf9bd"
      },
      "source": [
        "# Making the confusion matix"
      ]
    },
    {
      "cell_type": "code",
      "metadata": {
        "colab": {
          "base_uri": "https://localhost:8080/"
        },
        "id": "usKc65X6gujt",
        "outputId": "df7f9894-87a1-4292-dd92-62c3267b7624"
      },
      "source": [
        "from sklearn.metrics import confusion_matrix, accuracy_score\n",
        "cm = confusion_matrix(Y_test,y_pred)\n",
        "print(\"\\t\\n######## Random forest Accuracy ########\\n\")\n",
        "print(cm)\n",
        "accuracy = accuracy_score(Y_test,y_pred)\n",
        "print(accuracy)"
      ],
      "execution_count": 76,
      "outputs": [
        {
          "output_type": "stream",
          "text": [
            "\t\n",
            "######## Random forest Accuracy ########\n",
            "\n",
            "[[1403   74]\n",
            " [ 215   99]]\n",
            "0.8386376326074818\n",
            "time: 11.3 ms (started: 2021-03-26 13:49:09 +00:00)\n"
          ],
          "name": "stdout"
        }
      ]
    },
    {
      "cell_type": "markdown",
      "metadata": {
        "id": "8YNMw61chaex"
      },
      "source": [
        "# Since Kernel SVM Let us apply Dimensionality reduction"
      ]
    },
    {
      "cell_type": "markdown",
      "metadata": {
        "id": "cSWKRbmMT_J9"
      },
      "source": [
        "# Applying LDA"
      ]
    },
    {
      "cell_type": "code",
      "metadata": {
        "colab": {
          "base_uri": "https://localhost:8080/"
        },
        "id": "xUVfbyawUCaR",
        "outputId": "ea88253c-b130-4403-f8a7-5630a48f161c"
      },
      "source": [
        "from sklearn.discriminant_analysis import LinearDiscriminantAnalysis as LDA\n",
        "lda = LDA(n_components=1)\n",
        "X_train = lda.fit_transform(X_train, Y_train)\n",
        "X_test = lda.transform(X_test)"
      ],
      "execution_count": 77,
      "outputs": [
        {
          "output_type": "stream",
          "text": [
            "time: 257 ms (started: 2021-03-26 13:49:09 +00:00)\n"
          ],
          "name": "stdout"
        }
      ]
    },
    {
      "cell_type": "markdown",
      "metadata": {
        "id": "KOxRcEqWjP5C"
      },
      "source": [
        "# Training the Classification model on the training set"
      ]
    },
    {
      "cell_type": "code",
      "metadata": {
        "colab": {
          "base_uri": "https://localhost:8080/"
        },
        "id": "11CRqRWUjilt",
        "outputId": "41ae64f7-f0f0-472e-d306-76630e3e34ab"
      },
      "source": [
        "from sklearn.svm import SVC\n",
        "classifier = SVC(kernel='rbf', )\n",
        "classifier.fit(X_train,Y_train)"
      ],
      "execution_count": 78,
      "outputs": [
        {
          "output_type": "execute_result",
          "data": {
            "text/plain": [
              "SVC(C=1.0, break_ties=False, cache_size=200, class_weight=None, coef0=0.0,\n",
              "    decision_function_shape='ovr', degree=3, gamma='scale', kernel='rbf',\n",
              "    max_iter=-1, probability=False, random_state=None, shrinking=True,\n",
              "    tol=0.001, verbose=False)"
            ]
          },
          "metadata": {
            "tags": []
          },
          "execution_count": 78
        },
        {
          "output_type": "stream",
          "text": [
            "time: 1.08 s (started: 2021-03-26 13:49:09 +00:00)\n"
          ],
          "name": "stdout"
        }
      ]
    },
    {
      "cell_type": "markdown",
      "metadata": {
        "id": "JR_veJlKkewm"
      },
      "source": [
        "# predicting the test set results"
      ]
    },
    {
      "cell_type": "code",
      "metadata": {
        "colab": {
          "base_uri": "https://localhost:8080/"
        },
        "id": "L0khlIBskywr",
        "outputId": "623d125c-0576-453e-9ee1-040bee8b71af"
      },
      "source": [
        "y_pred = classifier.predict(X_test)\n",
        "print(np.concatenate((y_pred.reshape(len(y_pred),1),Y_test.reshape(len(Y_test),1)),1))"
      ],
      "execution_count": 79,
      "outputs": [
        {
          "output_type": "stream",
          "text": [
            "[[1. 0.]\n",
            " [0. 0.]\n",
            " [0. 0.]\n",
            " ...\n",
            " [0. 0.]\n",
            " [0. 1.]\n",
            " [0. 0.]]\n",
            "time: 106 ms (started: 2021-03-26 13:49:11 +00:00)\n"
          ],
          "name": "stdout"
        }
      ]
    },
    {
      "cell_type": "markdown",
      "metadata": {
        "id": "87HYSGkqlU3e"
      },
      "source": [
        "# Making the confusion matix"
      ]
    },
    {
      "cell_type": "code",
      "metadata": {
        "colab": {
          "base_uri": "https://localhost:8080/"
        },
        "id": "xQu62fA7lsqO",
        "outputId": "c4f5fcbe-1455-4466-a8af-7a71983836ef"
      },
      "source": [
        "from sklearn.metrics import confusion_matrix, accuracy_score\n",
        "cm = confusion_matrix(Y_test,y_pred)\n",
        "print(cm)\n",
        "\n",
        "accuracy = accuracy_score(Y_test,y_pred)\n",
        "print(accuracy)"
      ],
      "execution_count": 80,
      "outputs": [
        {
          "output_type": "stream",
          "text": [
            "[[1365  112]\n",
            " [ 153  161]]\n",
            "0.852037967615857\n",
            "time: 16.8 ms (started: 2021-03-26 13:49:11 +00:00)\n"
          ],
          "name": "stdout"
        }
      ]
    },
    {
      "cell_type": "markdown",
      "metadata": {
        "id": "VoHsM2_2mPE6"
      },
      "source": [
        "# Applying k-Fold Cross Validation"
      ]
    },
    {
      "cell_type": "code",
      "metadata": {
        "colab": {
          "base_uri": "https://localhost:8080/"
        },
        "id": "AvIj2qg2mY5Z",
        "outputId": "e086fae9-3831-447d-e95a-82116d6a57c1"
      },
      "source": [
        "from sklearn.model_selection import cross_val_score\n",
        "accuracies = cross_val_score(estimator=classifier, X=X_train, y=Y_train, cv=10)\n",
        "print(\"Accuracy: {:.2f} %\".format(accuracies.mean()*100))\n",
        "print(\"Standard Deviation :{:.2f} %\".format(accuracies.std()*100))"
      ],
      "execution_count": 81,
      "outputs": [
        {
          "output_type": "stream",
          "text": [
            "Accuracy: 86.39 %\n",
            "Standard Deviation :0.83 %\n",
            "time: 8.42 s (started: 2021-03-26 13:49:11 +00:00)\n"
          ],
          "name": "stdout"
        }
      ]
    },
    {
      "cell_type": "markdown",
      "metadata": {
        "id": "UVDv1B3Am0ce"
      },
      "source": [
        "# Grid Search"
      ]
    },
    {
      "cell_type": "code",
      "metadata": {
        "colab": {
          "base_uri": "https://localhost:8080/"
        },
        "id": "jtPpbsMfm5-Y",
        "outputId": "46639625-fac8-4518-9b90-1a2455b2b8b4"
      },
      "source": [
        "from sklearn.model_selection import GridSearchCV\n",
        "parameters = [{'C': [0.25, 0.5, 0.75, 1, 1.25, 1.50, 1.75, 2], 'kernel': ['linear']},\n",
        "              {'C': [0.25, 0.5, 0.75, 1, 1.25, 1.50, 1.75, 2], 'kernel': ['rbf'], 'gamma': [0.1, 0.2, 0.3, 0.4, 0.5, 0.6, 0.7, 0.8, 0.9]}\n",
        "             ]\n",
        "\n",
        "grid_search = GridSearchCV(estimator=classifier, param_grid=parameters, scoring='accuracy',\n",
        "                           cv=10, n_jobs=-1)\n",
        "grid_search.fit(X_train, Y_train)\n",
        "best_accuracy = grid_search.best_score_\n",
        "best_parameters = grid_search.best_params_\n",
        "print(\"Best Accuracy: {:.2f} %\".format(best_accuracy*100))\n",
        "print(\"Best Parameters: \", best_parameters)\n"
      ],
      "execution_count": 82,
      "outputs": [
        {
          "output_type": "stream",
          "text": [
            "Best Accuracy: 86.39 %\n",
            "Best Parameters:  {'C': 0.25, 'gamma': 0.1, 'kernel': 'rbf'}\n",
            "time: 7min 55s (started: 2021-03-26 13:49:19 +00:00)\n"
          ],
          "name": "stdout"
        }
      ]
    },
    {
      "cell_type": "markdown",
      "metadata": {
        "id": "ieOUc39xraiv"
      },
      "source": [
        "# graph"
      ]
    },
    {
      "cell_type": "markdown",
      "metadata": {
        "id": "M6eMkiZb3yvA"
      },
      "source": [
        "# Confusion Matrix"
      ]
    },
    {
      "cell_type": "code",
      "metadata": {
        "colab": {
          "base_uri": "https://localhost:8080/",
          "height": 465
        },
        "id": "Hf2SHzhBs-2e",
        "outputId": "511c7804-1dab-49b1-8e98-1911f504ef4c"
      },
      "source": [
        "import seaborn as sn\n",
        "import pandas as pd\n",
        "import matplotlib.pyplot as plt\n",
        "cm\n",
        "df_cm = pd.DataFrame(cm, range(2), range(2))\n",
        "plt.figure(figsize = (10,7))\n",
        "sn.heatmap(df_cm/np.sum(df_cm), annot=True, \n",
        "            fmt='.2%', cmap='Blues')"
      ],
      "execution_count": 83,
      "outputs": [
        {
          "output_type": "execute_result",
          "data": {
            "text/plain": [
              "<matplotlib.axes._subplots.AxesSubplot at 0x7fdaaa205550>"
            ]
          },
          "metadata": {
            "tags": []
          },
          "execution_count": 83
        },
        {
          "output_type": "display_data",
          "data": {
            "image/png": "[encoded data removed]",
            "text/plain": [
              "<Figure size 720x504 with 2 Axes>"
            ]
          },
          "metadata": {
            "tags": [],
            "needs_background": "light"
          }
        },
        {
          "output_type": "stream",
          "text": [
            "time: 270 ms (started: 2021-03-26 13:57:15 +00:00)\n"
          ],
          "name": "stdout"
        }
      ]
    },
    {
      "cell_type": "markdown",
      "metadata": {
        "id": "OtqD8ihc5WfT"
      },
      "source": [
        "Classification Graph"
      ]
    },
    {
      "cell_type": "code",
      "metadata": {
        "colab": {
          "base_uri": "https://localhost:8080/",
          "height": 1000
        },
        "id": "aSDQy8D57XRt",
        "outputId": "500bfbbe-a081-424d-b73d-9db79eb4dc6e"
      },
      "source": [
        "# TODO ########################################################### Data SET #################################################################\n",
        "# Todo: Importing the traning Dataset\n",
        "dataset = pd.read_csv('aug_train.csv')\n",
        "\n",
        "# Todo: Taking care of missing data\n",
        "dataset = dataset.dropna()\n",
        "\n",
        "# Todo: onehotencoding the city col\n",
        "labelencoder = LabelEncoder()\n",
        "dataset['city'] = labelencoder.fit_transform(dataset['city'])\n",
        "# todo: oneHot encoding the gender col\n",
        "dataset = pd.get_dummies(dataset, columns=[\"gender\"], prefix=[\"\"])\n",
        "dataset = dataset.drop(['_Other'], axis=1)\n",
        "\n",
        "# Todo: Label encoding the experience relevences col\n",
        "labelencoder = LabelEncoder()\n",
        "dataset['relevent_experience'] = labelencoder.fit_transform(dataset['relevent_experience'])\n",
        "\n",
        "# todo: onehotencoding the enrolled university col\n",
        "dataset = pd.get_dummies(dataset, columns=[\"enrolled_university\"], prefix=[\"\"])\n",
        "dataset = dataset.drop(['_no_enrollment'], axis=1)\n",
        "\n",
        "# todo: onehotencoding the education_level col\n",
        "dataset.rename(columns={'education_level': 'education'}, inplace=True)\n",
        "dataset = pd.get_dummies(dataset, columns=[\"education\"], prefix=[\"Education\"])\n",
        "dataset = dataset.drop(['Education_Phd'], axis=1)\n",
        "\n",
        "# todo: onehotencoding the major discipline col\n",
        "dataset = pd.get_dummies(dataset, columns=[\"major_discipline\"], prefix=[\"MajorDegreeIn\"])\n",
        "dataset = dataset.drop(['MajorDegreeIn_Other'], axis=1)\n",
        "\n",
        "# todo: replacing '>20' with 21 in the experience col\n",
        "dataset[\"experience\"].replace({\"<1\": \"0\", \">20\": \"21\"}, inplace=True)\n",
        "\n",
        "# todo: onehotencoding the company size col\n",
        "dataset = pd.get_dummies(dataset, columns=[\"company_size\"], prefix=[\"companySize\"])\n",
        "dataset = dataset.drop(['companySize_500-999'], axis=1)\n",
        "\n",
        "# todo: onehotencoding the company_type col\n",
        "dataset = pd.get_dummies(dataset, columns=[\"company_type\"], prefix=[\"companyType\"])\n",
        "dataset = dataset.drop(['companyType_Other'], axis=1)\n",
        "\n",
        "# todo: replace '>4' with 5  in the last_new jod col\n",
        "dataset[\"last_new_job\"].replace({\"never\": \"0\", \">4\": \"5\"}, inplace=True)\n",
        "\n",
        "# todo: coverting the columns to numeric\n",
        "dataset.apply(pd.to_numeric)\n",
        "\n",
        "# todo: moving the target column to the last\n",
        "cols = list(dataset.columns.values)\n",
        "cols.pop(cols.index('target'))\n",
        "dataset = dataset[cols + ['target']]\n",
        "# print(dataset)\n",
        "\n",
        "# todo see infuluence of the dev city and experience relevence\n",
        "X = dataset.iloc[:, 1:-1].values\n",
        "Y = dataset.iloc[:, -1].values\n",
        "\n",
        "# Todo: Splitting the dataset into Training set and Test set\n",
        "from sklearn.model_selection import train_test_split\n",
        "\n",
        "X_train, X_test, Y_train, Y_test = train_test_split(X, Y, test_size=0.2, random_state=0)\n",
        "\n",
        "# todo: feature Scaling\n",
        "from sklearn.preprocessing import StandardScaler\n",
        "\n",
        "sc = StandardScaler()\n",
        "X_train = sc.fit_transform(X_train)\n",
        "X_test = sc.transform(X_test)\n",
        "\n",
        "print(X_train)\n",
        "print(X_test)\n",
        "\n",
        "# todo: Training the logistic Regression model on the training set\n",
        "from sklearn.svm import SVC\n",
        "classifier = SVC(kernel='rbf', C=0.25 , gamma=0.1)\n",
        "classifier.fit(X_train,Y_train)\n",
        "\n",
        "# todo: predicting the test set results\n",
        "y_pred = classifier.predict(X_test)\n",
        "print(np.concatenate((y_pred.reshape(len(y_pred), 1), Y_test.reshape(len(Y_test), 1)), 1))\n",
        "\n",
        "# todo: Making the confusion matix\n",
        "from sklearn.metrics import confusion_matrix, accuracy_score\n",
        "\n",
        "cm = confusion_matrix(Y_test, y_pred)\n",
        "print(cm)\n",
        "\n",
        "accuracy = accuracy_score(Y_test, y_pred)\n",
        "print(accuracy)\n",
        "\n",
        "# todo: Applying k-Fold Cross Validation\n",
        "from sklearn.model_selection import cross_val_score\n",
        "\n",
        "accuracies = cross_val_score(estimator=classifier, X=X_train, y=Y_train, cv=10)\n",
        "print(\"Accuracy: {:.2f} %\".format(accuracies.mean() * 100))\n",
        "print(\"Standard Deviation :{:.2f} %\".format(accuracies.std() * 100))\n",
        "\n",
        "# Todo:graph\n",
        "# todo:Visualising the Training set results\n",
        "from matplotlib.colors import ListedColormap\n",
        "\n",
        "X_set, y_set = X_test, Y_test\n",
        "X1, X2 = np.meshgrid(np.arange(start=X_set[:, 0].min() - 1, stop=X_set[:, 0].max() + 1, step=1),\n",
        "                     np.arange(start=X_set[:, 1].min() - 1, stop=X_set[:, 1].max() + 1, step=1))\n",
        "Xpred = np.array([X1.ravel(), X2.ravel()] + [np.repeat(0, X1.ravel().size) for _ in range(27)]).T\n",
        "# Xpred now has a grid for x1 and x2 and average value (0) for x3 through x13\n",
        "pred = classifier.predict(Xpred).reshape(X1.shape)  # is a matrix of 0's and 1's !\n",
        "pred = classifier.decision_function(Xpred).reshape(X1.shape)\n",
        "plt.contourf(X1, X2, pred, alpha=1.0, cmap=\"RdYlGn\", levels=np.linspace(pred.min(), pred.max(), 100))\n",
        "\n",
        "plt.xlim(X1.min(), X1.max())\n",
        "plt.ylim(X2.min(), X2.max())\n",
        "for i, j in enumerate(np.unique(y_set)):\n",
        "    plt.scatter(X_set[y_set == j, 0], X_set[y_set == j, 1], c=ListedColormap(('red', 'green'))(i), label=j)\n",
        "plt.title('Classification')\n",
        "plt.xlabel('Datascience featue scale')\n",
        "plt.ylabel('How Likely to Leave')\n",
        "plt.legend()\n",
        "plt.show()"
      ],
      "execution_count": 84,
      "outputs": [
        {
          "output_type": "stream",
          "text": [
            "[[ 0.62336122 -1.90657105 -0.3797712  ... -0.20686894 -0.26437185\n",
            "   0.57412662]\n",
            " [-1.03499032  0.64553049 -0.3797712  ...  4.83397838 -0.26437185\n",
            "  -1.74177604]\n",
            " [ 0.62336122 -1.90657105 -0.3797712  ... -0.20686894 -0.26437185\n",
            "   0.57412662]\n",
            " ...\n",
            " [ 1.76913138  0.80934782 -0.3797712  ... -0.20686894 -0.26437185\n",
            "   0.57412662]\n",
            " [-0.85407924 -2.54459643 -0.3797712  ... -0.20686894 -0.26437185\n",
            "   0.57412662]\n",
            " [-1.03499032  0.64553049 -0.3797712  ... -0.20686894 -0.26437185\n",
            "  -1.74177604]]\n",
            "[[ 0.62336122 -1.90657105 -0.3797712  ... -0.20686894 -0.26437185\n",
            "   0.57412662]\n",
            " [ 0.20123537  0.55931084 -0.3797712  ... -0.20686894 -0.26437185\n",
            "  -1.74177604]\n",
            " [-1.03499032  0.64553049 -0.3797712  ... -0.20686894 -0.26437185\n",
            "  -1.74177604]\n",
            " ...\n",
            " [ 0.20123537  0.55931084 -0.3797712  ... -0.20686894 -0.26437185\n",
            "   0.57412662]\n",
            " [-1.00483848  0.68001835 -0.3797712  ... -0.20686894 -0.26437185\n",
            "   0.57412662]\n",
            " [ 0.20123537  0.55931084 -0.3797712  ... -0.20686894 -0.26437185\n",
            "   0.57412662]]\n",
            "[[0. 0.]\n",
            " [0. 0.]\n",
            " [0. 0.]\n",
            " ...\n",
            " [0. 0.]\n",
            " [0. 1.]\n",
            " [0. 0.]]\n",
            "[[1451   26]\n",
            " [ 260   54]]\n",
            "0.8403126744835288\n"
          ],
          "name": "stdout"
        },
        {
          "output_type": "stream",
          "text": [
            "*c* argument looks like a single numeric RGB or RGBA sequence, which should be avoided as value-mapping will have precedence in case its length matches with *x* & *y*.  Please use the *color* keyword-argument or provide a 2-D array with a single row if you intend to specify the same RGB or RGBA value for all points.\n",
            "*c* argument looks like a single numeric RGB or RGBA sequence, which should be avoided as value-mapping will have precedence in case its length matches with *x* & *y*.  Please use the *color* keyword-argument or provide a 2-D array with a single row if you intend to specify the same RGB or RGBA value for all points.\n"
          ],
          "name": "stderr"
        },
        {
          "output_type": "stream",
          "text": [
            "Accuracy: 84.42 %\n",
            "Standard Deviation :0.42 %\n"
          ],
          "name": "stdout"
        },
        {
          "output_type": "display_data",
          "data": {
            "image/png": "[encoded data removed]",
            "text/plain": [
              "<Figure size 432x288 with 1 Axes>"
            ]
          },
          "metadata": {
            "tags": [],
            "needs_background": "light"
          }
        },
        {
          "output_type": "stream",
          "text": [
            "time: 20.7 s (started: 2021-03-26 13:57:15 +00:00)\n"
          ],
          "name": "stdout"
        }
      ]
    },
    {
      "cell_type": "markdown",
      "metadata": {
        "id": "1HTcMD5tVPqO"
      },
      "source": [
        "# Data Analysis"
      ]
    },
    {
      "cell_type": "code",
      "metadata": {
        "colab": {
          "base_uri": "https://localhost:8080/"
        },
        "id": "53RGFVwOVoGj",
        "outputId": "c8d5237c-2d39-4d4c-f71a-032ba4a46dfd"
      },
      "source": [
        "#Todo: Importing the traning Dataset\n",
        "dataset = pd.read_csv('aug_train.csv')\n",
        "\n",
        "#Todo: Taking care of missing data\n",
        "dataset = dataset.dropna()\n",
        "\n",
        "#Todo: onehotencoding the city col\n",
        "labelencoder = LabelEncoder()\n",
        "dataset['city'] = labelencoder.fit_transform(dataset['city'])\n",
        "#todo: oneHot encoding the gender col\n",
        "dataset = pd.get_dummies(dataset, columns=[\"gender\"], prefix=[\"\"])\n",
        "dataset = dataset.drop(['_Other'], axis=1)\n",
        "\n",
        "#Todo: Label encoding the experience relevences col\n",
        "labelencoder = LabelEncoder()\n",
        "dataset['relevent_experience'] = labelencoder.fit_transform(dataset['relevent_experience'])\n",
        "\n",
        "#todo: onehotencoding the enrolled university col\n",
        "dataset = pd.get_dummies(dataset, columns=[\"enrolled_university\"], prefix=[\"\"])\n",
        "dataset = dataset.drop(['_no_enrollment'], axis=1)\n",
        "\n",
        "#todo: onehotencoding the education_level col\n",
        "dataset.rename(columns = {'education_level':'education'}, inplace = True)\n",
        "dataset = pd.get_dummies(dataset, columns=[\"education\"], prefix=[\"Education\"])\n",
        "dataset = dataset.drop(['Education_Phd'], axis=1)\n",
        "\n",
        "#todo: onehotencoding the major discipline col\n",
        "dataset = pd.get_dummies(dataset, columns=[\"major_discipline\"], prefix=[\"MajorDegreeIn\"])\n",
        "dataset = dataset.drop(['MajorDegreeIn_Other'], axis=1)\n",
        "\n",
        "#todo: replacing '>20' with 21 in the experience col\n",
        "dataset[\"experience\"].replace({\"<1\": \"0\", \">20\": \"21\"}, inplace=True)\n",
        "\n",
        "#todo: onehotencoding the company size col\n",
        "dataset = pd.get_dummies(dataset, columns=[\"company_size\"], prefix=[\"companySize\"])\n",
        "dataset = dataset.drop(['companySize_500-999'], axis=1)\n",
        "\n",
        "#todo: onehotencoding the company_type col\n",
        "dataset = pd.get_dummies(dataset, columns=[\"company_type\"], prefix=[\"companyType\"])\n",
        "dataset = dataset.drop(['companyType_Other'], axis=1)\n",
        "\n",
        "#todo: replace '>4' with 5  in the last_new jod col\n",
        "dataset[\"last_new_job\"].replace({\"never\": \"0\", \">4\": \"5\"}, inplace=True)\n",
        "\n",
        "#todo: coverting the columns to numeric\n",
        "dataset.apply(pd.to_numeric)\n",
        "\n",
        "\n",
        "#todo: moving the target column to the last\n",
        "cols = list(dataset.columns.values)\n",
        "cols.pop(cols.index('target'))\n",
        "dataset = dataset[cols+['target']]"
      ],
      "execution_count": 85,
      "outputs": [
        {
          "output_type": "stream",
          "text": [
            "time: 167 ms (started: 2021-03-26 13:57:36 +00:00)\n"
          ],
          "name": "stdout"
        }
      ]
    },
    {
      "cell_type": "markdown",
      "metadata": {
        "id": "TfbOuSzXV6HC"
      },
      "source": [
        "# Relevence Checking"
      ]
    },
    {
      "cell_type": "code",
      "metadata": {
        "colab": {
          "base_uri": "https://localhost:8080/",
          "height": 453
        },
        "id": "qGtbRZKPVwsK",
        "outputId": "96fbf034-f066-41b7-889d-2d716866c328"
      },
      "source": [
        "X= dataset.iloc[:,1:-1]\n",
        "y= dataset.iloc[:,-1]\n",
        "\n",
        "from  sklearn.model_selection import train_test_split\n",
        "X_train, X_test, y_train, y_test = train_test_split(X, y, test_size = 0.25, random_state = 0)\n",
        "from sklearn.ensemble import RandomForestClassifier\n",
        "model= RandomForestClassifier(n_estimators=100)\n",
        "model.fit(X_train,y_train)\n",
        "var_select= pd.Series(model.feature_importances_, index = X.columns.values).sort_values(ascending=False)\n",
        "var_select = var_select*100\n",
        "\n",
        "\n",
        "var_select.plot.bar(x=\"Features\", y=\"Level of relevance\", rot=70, title=\"HR Analytics\");\n"
      ],
      "execution_count": 86,
      "outputs": [
        {
          "output_type": "display_data",
          "data": {
            "image/png": "[encoded data removed]",
            "text/plain": [
              "<Figure size 432x288 with 1 Axes>"
            ]
          },
          "metadata": {
            "tags": [],
            "needs_background": "light"
          }
        },
        {
          "output_type": "stream",
          "text": [
            "time: 1.33 s (started: 2021-03-26 13:57:36 +00:00)\n"
          ],
          "name": "stdout"
        }
      ]
    }
  ]
}